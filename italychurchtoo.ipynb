{
 "cells": [
  {
   "cell_type": "code",
   "execution_count": 68,
   "outputs": [],
   "source": [
    "import datetime\n",
    "import json\n",
    "import os\n",
    "import time\n",
    "\n",
    "from tqdm import tqdm\n",
    "from tweepy import TweepyException\n",
    "\n",
    "DATA_PATH='data'\n",
    "from twitter_utils import get_client, get_profiles\n"
   ],
   "metadata": {
    "collapsed": false
   }
  },
  {
   "cell_type": "code",
   "execution_count": 11,
   "outputs": [],
   "source": [
    "query = \"((((abuso OR violenza OR sessuale OR vittima) (minore OR minorenne OR minori OR minorenni)) OR (pedofilo OR pedofilia OR pedofili)) (sacerdote OR don OR prete OR papa OR vescovo OR cardinale OR prelato OR parroco OR sacerdoti OR preti OR vescovi OR cardinali OR prelati OR parroci OR chiesa OR cei OR episcopale OR episcopali OR clero OR cattolico OR cattolica OR cattolici OR parrocchia OR parrocchie OR parrocchiale OR parrocchiali OR ecclesiastico OR ecclesiastica OR ecclesiastici)) OR (italychurchtoo OR #italychurchtoo OR @italychurchtoo) OR (from:RLABUSO OR from:italychurchtoo)\"\n",
    "\n",
    "# query = \"((((abuso OR violenza OR sessuale OR vittima) (minore OR minorenne OR minori OR minorenni)) OR (pedofilo OR pedofilia OR pedofili)))\"\n",
    "\n"
   ],
   "metadata": {
    "collapsed": false
   }
  },
  {
   "cell_type": "code",
   "execution_count": 12,
   "outputs": [],
   "source": [
    "# ( AND (don OR prete OR papa OR vescovo OR cardinale OR prelato OR parroco OR preti OR  OR vescovi OR cardinali OR prelati OR parroci OR chiesa OR cei OR episcopale OR clero OR cattolico OR cattolica OR cattolici OR parrocchia OR parrocchie)) OR (italychurchtoo OR #italychurchtoo OR @italychurchtoo) OR from:RLABUSO OR from:italychurchtoo"
   ],
   "metadata": {
    "collapsed": false
   }
  },
  {
   "cell_type": "code",
   "execution_count": 69,
   "outputs": [],
   "source": [
    "client = get_client()\n"
   ],
   "metadata": {
    "collapsed": false
   }
  },
  {
   "cell_type": "code",
   "execution_count": 70,
   "outputs": [],
   "source": [
    "out_path = os.path.join(DATA_PATH, f'itlaychurchtoo_nolang.jsonl')\n",
    "errors = list()"
   ],
   "metadata": {
    "collapsed": false
   }
  },
  {
   "cell_type": "code",
   "execution_count": 72,
   "outputs": [],
   "source": [
    "start_date = datetime.datetime(2010, 1, 1, 0, 0, 0)\n",
    "end_date = None\n"
   ],
   "metadata": {
    "collapsed": false
   }
  },
  {
   "cell_type": "code",
   "execution_count": 20,
   "outputs": [],
   "source": [
    "if os.path_exists(out_path):\n",
    "    with open(out_path) as f:\n",
    "        for l in f:\n",
    "            pass\n",
    "    end_date = json.loads(l)['created_at']"
   ],
   "metadata": {
    "collapsed": false
   }
  },
  {
   "cell_type": "code",
   "execution_count": 30,
   "outputs": [],
   "source": [
    "with open(out_path, 'a+') as f:\n",
    "    done = False\n",
    "    next_token = None\n",
    "    while not done:\n",
    "        try:\n",
    "            res = client.search_all_tweets(query=query, next_token=next_token, max_results=500, start_time=start_date, end_time=end_date,\\\n",
    "                                           place_fields = ['id','full_name', 'country', 'geo', 'name', 'place_type'],\n",
    "                                         tweet_fields = ['id', 'created_at', 'geo', 'public_metrics', 'text', 'edit_history_tweet_ids', 'attachments', 'author_id',  'conversation_id', 'entities', 'in_reply_to_user_id', 'lang', 'possibly_sensitive', 'referenced_tweets', 'reply_settings', 'source', 'withheld'], # missing edit controls and  other fields that require user auth, 'context_annotations' requires <100 results\n",
    "                        media_fields=['url', 'alt_text','public_metrics', 'type', 'media_key', 'duration_ms'],  \\\n",
    "                        poll_fields=['id', 'options', 'duration_minutes', 'end_datetime', 'voting_status'],\n",
    "                                           since_id=None, sort_order=None, \\\n",
    "                        until_id=None, user_fields=['created_at', 'description', 'entities', 'id', 'location', 'name', 'pinned_tweet_id',\n",
    "               'profile_image_url', 'protected', 'public_metrics', 'url', 'username', 'verified', 'withheld'])\n",
    "            for tweet in res.data:\n",
    "                f.write(json.dumps(tweet.data, sort_keys=True)+'\\n')\n",
    "            next_token = res.meta.get('next_token', None)\n",
    "            if not next_token:\n",
    "                done=True\n",
    "\n",
    "        except TweepyException as e:\n",
    "            print(e)\n",
    "            errors.extend(query)\n",
    "            time.sleep(60)\n",
    "            # done=True"
   ],
   "metadata": {
    "collapsed": false
   }
  },
  {
   "cell_type": "code",
   "execution_count": 31,
   "outputs": [
    {
     "data": {
      "text/plain": "737787"
     },
     "execution_count": 31,
     "metadata": {},
     "output_type": "execute_result"
    }
   ],
   "source": [
    "cnt = 0\n",
    "with open(out_path) as f:\n",
    "    for l in f:\n",
    "        cnt+=1\n",
    "cnt"
   ],
   "metadata": {
    "collapsed": false
   }
  },
  {
   "cell_type": "code",
   "execution_count": 34,
   "outputs": [],
   "source": [
    "authors = set()\n",
    "with open(out_path) as f:\n",
    "    for l in f:\n",
    "        authors.add(json.loads(l)['author_id'])"
   ],
   "metadata": {
    "collapsed": false
   }
  },
  {
   "cell_type": "code",
   "execution_count": 35,
   "outputs": [
    {
     "data": {
      "text/plain": "368914"
     },
     "execution_count": 35,
     "metadata": {},
     "output_type": "execute_result"
    }
   ],
   "source": [
    "len(authors)"
   ],
   "metadata": {
    "collapsed": false
   }
  },
  {
   "cell_type": "code",
   "execution_count": 37,
   "outputs": [
    {
     "name": "stderr",
     "output_type": "stream",
     "text": [
      "batch:   8%|▊         | 300/3690 [02:27<25:57,  2.18it/s]Rate limit exceeded. Sleeping for 754 seconds.\n",
      "batch:  16%|█▋        | 600/3690 [17:20<22:39,  2.27it/s]     Rate limit exceeded. Sleeping for 762 seconds.\n",
      "batch:  24%|██▍       | 900/3690 [32:23<21:55,  2.12it/s]     Rate limit exceeded. Sleeping for 761 seconds.\n",
      "batch:  33%|███▎      | 1200/3690 [47:04<16:09,  2.57it/s]    Rate limit exceeded. Sleeping for 781 seconds.\n",
      "batch:  41%|████      | 1500/3690 [1:01:59<14:21,  2.54it/s]     Rate limit exceeded. Sleeping for 787 seconds.\n",
      "batch:  49%|████▉     | 1800/3690 [1:17:01<11:57,  2.63it/s]     Rate limit exceeded. Sleeping for 786 seconds.\n",
      "batch:  57%|█████▋    | 2100/3690 [1:32:04<11:03,  2.39it/s]     Rate limit exceeded. Sleeping for 784 seconds.\n",
      "batch:  65%|██████▌   | 2400/3690 [1:47:04<08:21,  2.57it/s]     Rate limit exceeded. Sleeping for 785 seconds.\n",
      "batch:  73%|███████▎  | 2700/3690 [2:02:05<05:50,  2.83it/s]    Rate limit exceeded. Sleeping for 785 seconds.\n",
      "batch:  81%|████████▏ | 3000/3690 [2:17:07<04:20,  2.65it/s]    Rate limit exceeded. Sleeping for 785 seconds.\n",
      "batch:  89%|████████▉ | 3300/3690 [2:32:08<02:40,  2.43it/s]    Rate limit exceeded. Sleeping for 784 seconds.\n",
      "batch:  98%|█████████▊| 3600/3690 [2:47:08<00:34,  2.63it/s]    Rate limit exceeded. Sleeping for 785 seconds.\n",
      "batch: 100%|██████████| 3690/3690 [3:00:49<00:00,  2.94s/it]   \n"
     ]
    }
   ],
   "source": [
    "\n",
    "out_path = os.path.join(DATA_PATH, 'italychurchtoo_rehydrated.jsonl')\n",
    "err_path = os.path.join(DATA_PATH, 'italychurchtoo_missing.jsonl')\n",
    "\n",
    "author_errors = get_profiles(ids=list(authors), client=client, out_path=out_path, error_path=err_path)"
   ],
   "metadata": {
    "collapsed": false
   }
  },
  {
   "cell_type": "code",
   "execution_count": 73,
   "outputs": [],
   "source": [
    "out_path = os.path.join(DATA_PATH, f'itlaychurchtoo_nolang.jsonl')\n",
    "conversations = set()\n",
    "with open(out_path) as f:\n",
    "    for l in f:\n",
    "        tweet = json.loads(l)\n",
    "        # should filter out tweets that are original (or retweets/quote retweets) but have no replies. would retweets create new conversation_ids? yes, so them too.\n",
    "        if (('referenced_tweets' not in tweet) or (tweet['referenced_tweets'][0]['type']!='reply')) and (tweet[\"public_metrics\"][\"reply_count\"]==0):\n",
    "            continue\n",
    "        conversations.add(tweet['conversation_id'])"
   ],
   "metadata": {
    "collapsed": false
   }
  },
  {
   "cell_type": "code",
   "execution_count": 74,
   "outputs": [
    {
     "data": {
      "text/plain": "43313"
     },
     "execution_count": 74,
     "metadata": {},
     "output_type": "execute_result"
    }
   ],
   "source": [
    "len(conversations)"
   ],
   "metadata": {
    "collapsed": false
   }
  },
  {
   "cell_type": "code",
   "execution_count": 75,
   "outputs": [],
   "source": [
    "queries = list()\n",
    "\n",
    "while(len(conversations)):\n",
    "    query = ''\n",
    "    while len(query)<=1024:\n",
    "        if not len(conversations):\n",
    "            break\n",
    "        next_id= conversations.pop()\n",
    "        next_id_str=f\"conversation_id:{next_id} OR \"\n",
    "        if (len(query)+len(next_id_str)>1024):\n",
    "            query = query[:-len(\" OR \")]\n",
    "            conversations.add(next_id)\n",
    "            break\n",
    "        else:\n",
    "            query+=next_id_str\n",
    "    queries.append(query)"
   ],
   "metadata": {
    "collapsed": false
   }
  },
  {
   "cell_type": "code",
   "execution_count": 76,
   "outputs": [
    {
     "data": {
      "text/plain": "1666"
     },
     "execution_count": 76,
     "metadata": {},
     "output_type": "execute_result"
    }
   ],
   "source": [
    "len(queries)"
   ],
   "metadata": {
    "collapsed": false
   }
  },
  {
   "cell_type": "code",
   "execution_count": 77,
   "outputs": [
    {
     "name": "stderr",
     "output_type": "stream",
     "text": [
      "queries:   0%|          | 5/1666 [01:56<11:54:56, 25.83s/it]Rate limit exceeded. Sleeping for 354 seconds.\n",
      "queries:   0%|          | 6/1666 [09:00<74:15:46, 161.05s/it]Rate limit exceeded. Sleeping for 893 seconds.\n",
      "queries:   1%|          | 14/1666 [24:54<17:24:39, 37.94s/it] Rate limit exceeded. Sleeping for 841 seconds.\n",
      "queries:   1%|          | 18/1666 [39:16<45:29:49, 99.39s/it]  Rate limit exceeded. Sleeping for 879 seconds.\n",
      "queries:   2%|▏         | 41/1666 [57:57<4:08:21,  9.17s/it]   Rate limit exceeded. Sleeping for 660 seconds.\n",
      "queries:   3%|▎         | 44/1666 [1:09:22<47:35:24, 105.63s/it]Rate limit exceeded. Sleeping for 876 seconds.\n",
      "queries:   3%|▎         | 54/1666 [1:26:13<10:47:29, 24.10s/it]  Rate limit exceeded. Sleeping for 767 seconds.\n",
      "queries:   3%|▎         | 58/1666 [1:39:09<38:36:12, 86.43s/it]  Rate limit exceeded. Sleeping for 892 seconds.\n",
      "queries:   5%|▍         | 75/1666 [1:56:18<6:59:40, 15.83s/it]   Rate limit exceeded. Sleeping for 764 seconds.\n",
      "queries:   5%|▌         | 89/1666 [2:12:05<4:53:26, 11.16s/it]   Rate limit exceeded. Sleeping for 719 seconds.\n",
      "queries:   6%|▌         | 103/1666 [2:26:17<6:58:32, 16.07s/it] Rate limit exceeded. Sleeping for 769 seconds.\n",
      "queries:   8%|▊         | 131/1666 [2:46:07<5:45:46, 13.52s/it]   Rate limit exceeded. Sleeping for 481 seconds.\n",
      "queries:   8%|▊         | 134/1666 [2:54:35<34:13:27, 80.42s/it] Rate limit exceeded. Sleeping for 874 seconds.\n",
      "queries:   9%|▉         | 157/1666 [3:14:35<3:37:30,  8.65s/it]   Rate limit exceeded. Sleeping for 576 seconds.\n",
      "queries:  10%|▉         | 159/1666 [3:36:41<118:57:13, 284.16s/it]Rate limit exceeded. Sleeping for 126 seconds.\n",
      "queries:  11%|█         | 175/1666 [3:44:19<11:47:09, 28.46s/it]  Rate limit exceeded. Sleeping for 595 seconds.\n",
      "queries:  11%|█▏        | 190/1666 [3:57:03<3:57:39,  9.66s/it]  Rate limit exceeded. Sleeping for 731 seconds.\n",
      "queries:  12%|█▏        | 201/1666 [4:11:23<7:09:01, 17.57s/it]  Rate limit exceeded. Sleeping for 773 seconds.\n",
      "queries:  13%|█▎        | 212/1666 [4:26:07<6:03:11, 14.99s/it]  Rate limit exceeded. Sleeping for 789 seconds.\n",
      "queries:  13%|█▎        | 215/1666 [4:39:40<50:43:30, 125.85s/it] Rate limit exceeded. Sleeping for 877 seconds.\n",
      "queries:  15%|█▍        | 243/1666 [5:04:07<7:18:03, 18.47s/it]   Rate limit exceeded. Sleeping for 300 seconds.\n",
      "queries:  15%|█▍        | 245/1666 [5:09:42<31:38:23, 80.16s/it] "
     ]
    },
    {
     "name": "stdout",
     "output_type": "stream",
     "text": [
      "503 Service Unavailable\n",
      "Service Unavailable\n"
     ]
    },
    {
     "name": "stderr",
     "output_type": "stream",
     "text": [
      "queries:  15%|█▌        | 252/1666 [5:13:28<14:07:42, 35.97s/it]Rate limit exceeded. Sleeping for 652 seconds.\n",
      "queries:  15%|█▌        | 257/1666 [5:27:21<31:32:01, 80.57s/it] Rate limit exceeded. Sleeping for 721 seconds.\n",
      "queries:  17%|█▋        | 282/1666 [5:43:48<6:38:00, 17.25s/it]   Rate limit exceeded. Sleeping for 634 seconds.\n",
      "queries:  18%|█▊        | 301/1666 [5:58:26<6:06:21, 16.10s/it]  Rate limit exceeded. Sleeping for 658 seconds.\n",
      "queries:  18%|█▊        | 308/1666 [6:10:16<11:54:04, 31.55s/it] Rate limit exceeded. Sleeping for 849 seconds.\n",
      "queries:  19%|█▉        | 314/1666 [6:25:38<22:06:59, 58.89s/it]  Rate limit exceeded. Sleeping for 829 seconds.\n",
      "queries:  19%|█▉        | 321/1666 [6:42:03<21:07:12, 56.53s/it]  Rate limit exceeded. Sleeping for 745 seconds.\n",
      "queries:  20%|█▉        | 326/1666 [6:56:22<27:32:34, 74.00s/it]  Rate limit exceeded. Sleeping for 787 seconds.\n",
      "queries:  20%|█▉        | 328/1666 [7:09:38<75:47:02, 203.90s/it] Rate limit exceeded. Sleeping for 892 seconds.\n",
      "queries:  20%|█▉        | 331/1666 [7:25:02<76:39:50, 206.73s/it] Rate limit exceeded. Sleeping for 870 seconds.\n",
      "queries:  21%|██        | 342/1666 [7:41:15<7:23:12, 20.09s/it]   Rate limit exceeded. Sleeping for 799 seconds.\n",
      "queries:  21%|██        | 345/1666 [7:54:47<46:36:21, 127.01s/it]Rate limit exceeded. Sleeping for 888 seconds.\n",
      "queries:  21%|██        | 348/1666 [8:09:51<65:09:11, 177.96s/it] Rate limit exceeded. Sleeping for 886 seconds.\n",
      "queries:  21%|██        | 350/1666 [8:24:53<101:23:29, 277.36s/it]Rate limit exceeded. Sleeping for 884 seconds.\n",
      "queries:  21%|██▏       | 356/1666 [8:41:23<32:52:20, 90.34s/it]  Rate limit exceeded. Sleeping for 795 seconds.\n",
      "queries:  23%|██▎       | 376/1666 [8:56:34<2:36:44,  7.29s/it]   Rate limit exceeded. Sleeping for 786 seconds.\n",
      "queries:  23%|██▎       | 377/1666 [9:09:46<86:55:03, 242.75s/it]Rate limit exceeded. Sleeping for 895 seconds.\n",
      "queries:  23%|██▎       | 380/1666 [9:25:01<78:05:13, 218.60s/it] Rate limit exceeded. Sleeping for 882 seconds.\n",
      "queries:  23%|██▎       | 382/1666 [9:40:00<106:03:22, 297.35s/it]Rate limit exceeded. Sleeping for 884 seconds.\n",
      "queries:  24%|██▎       | 395/1666 [9:57:19<5:13:54, 14.82s/it]   Rate limit exceeded. Sleeping for 747 seconds.\n",
      "queries:  24%|██▍       | 399/1666 [10:10:32<32:14:37, 91.62s/it] Rate limit exceeded. Sleeping for 856 seconds.\n",
      "queries:  24%|██▍       | 406/1666 [10:25:10<14:10:02, 40.48s/it]  Rate limit exceeded. Sleeping for 879 seconds.\n",
      "queries:  24%|██▍       | 407/1666 [10:40:02<103:32:28, 296.07s/it]Rate limit exceeded. Sleeping for 888 seconds.\n",
      "queries:  25%|██▌       | 418/1666 [10:56:08<7:45:30, 22.38s/it]   Rate limit exceeded. Sleeping for 823 seconds.\n",
      "queries:  25%|██▌       | 419/1666 [11:09:55<91:19:23, 263.64s/it]Rate limit exceeded. Sleeping for 898 seconds.\n",
      "queries:  26%|██▌       | 432/1666 [11:26:11<4:43:33, 13.79s/it]   Rate limit exceeded. Sleeping for 822 seconds.\n",
      "queries:  26%|██▌       | 436/1666 [11:41:37<37:32:55, 109.90s/it]Rate limit exceeded. Sleeping for 798 seconds.\n",
      "queries:  26%|██▋       | 438/1666 [11:55:16<77:15:10, 226.47s/it] Rate limit exceeded. Sleeping for 881 seconds.\n",
      "queries:  27%|██▋       | 446/1666 [12:13:16<14:34:52, 43.03s/it]  "
     ]
    },
    {
     "name": "stdout",
     "output_type": "stream",
     "text": [
      "503 Service Unavailable\n",
      "Service Unavailable\n"
     ]
    },
    {
     "name": "stderr",
     "output_type": "stream",
     "text": [
      "queries:  27%|██▋       | 455/1666 [12:36:13<10:40:29, 31.73s/it]  Rate limit exceeded. Sleeping for 226 seconds.\n",
      "queries:  27%|██▋       | 457/1666 [12:40:27<23:38:25, 70.39s/it]Rate limit exceeded. Sleeping for 874 seconds.\n",
      "queries:  28%|██▊       | 465/1666 [12:56:51<16:50:13, 50.47s/it]  Rate limit exceeded. Sleeping for 777 seconds.\n",
      "queries:  28%|██▊       | 468/1666 [13:10:33<47:00:17, 141.25s/it]Rate limit exceeded. Sleeping for 871 seconds.\n",
      "queries:  29%|██▊       | 478/1666 [13:27:06<8:50:48, 26.81s/it]   Rate limit exceeded. Sleeping for 779 seconds.\n",
      "queries:  29%|██▉       | 479/1666 [13:40:10<83:47:40, 254.14s/it]Rate limit exceeded. Sleeping for 896 seconds.\n",
      "queries:  29%|██▉       | 481/1666 [13:55:10<103:10:52, 313.46s/it]Rate limit exceeded. Sleeping for 898 seconds.\n",
      "queries:  29%|██▉       | 483/1666 [14:10:18<113:21:00, 344.94s/it]Rate limit exceeded. Sleeping for 891 seconds.\n",
      "queries:  30%|███       | 500/1666 [14:28:03<3:31:04, 10.86s/it]   Rate limit exceeded. Sleeping for 728 seconds.\n",
      "queries:  30%|███       | 506/1666 [14:40:54<13:53:41, 43.12s/it] Rate limit exceeded. Sleeping for 858 seconds.\n",
      "queries:  31%|███       | 511/1666 [14:55:47<23:32:30, 73.38s/it] Rate limit exceeded. Sleeping for 867 seconds.\n",
      "queries:  31%|███       | 519/1666 [15:10:45<9:16:47, 29.13s/it]   Rate limit exceeded. Sleeping for 871 seconds.\n",
      "queries:  31%|███▏      | 522/1666 [15:25:38<45:13:42, 142.33s/it]Rate limit exceeded. Sleeping for 880 seconds.\n",
      "queries:  32%|███▏      | 528/1666 [15:41:19<21:45:27, 68.83s/it]  "
     ]
    },
    {
     "name": "stdout",
     "output_type": "stream",
     "text": [
      "503 Service Unavailable\n",
      "Service Unavailable\n"
     ]
    },
    {
     "name": "stderr",
     "output_type": "stream",
     "text": [
      "queries:  32%|███▏      | 531/1666 [15:47:21<29:00:27, 92.01s/it] Rate limit exceeded. Sleeping for 479 seconds.\n",
      "queries:  32%|███▏      | 538/1666 [15:59:55<30:46:53, 98.24s/it] Rate limit exceeded. Sleeping for 627 seconds.\n",
      "queries:  33%|███▎      | 546/1666 [16:11:07<9:10:04, 29.47s/it]  Rate limit exceeded. Sleeping for 856 seconds.\n",
      "queries:  34%|███▎      | 561/1666 [16:27:20<2:48:11,  9.13s/it]  Rate limit exceeded. Sleeping for 785 seconds.\n",
      "queries:  34%|███▍      | 568/1666 [16:41:23<10:17:02, 33.72s/it] Rate limit exceeded. Sleeping for 843 seconds.\n",
      "queries:  34%|███▍      | 573/1666 [16:57:04<24:32:45, 80.85s/it] Rate limit exceeded. Sleeping for 804 seconds.\n",
      "queries:  35%|███▍      | 576/1666 [17:10:52<45:47:54, 151.26s/it]Rate limit exceeded. Sleeping for 877 seconds.\n",
      "queries:  35%|███▍      | 581/1666 [17:26:33<29:15:22, 97.07s/it]  Rate limit exceeded. Sleeping for 837 seconds.\n",
      "queries:  35%|███▌      | 585/1666 [17:40:40<33:27:54, 111.45s/it]Rate limit exceeded. Sleeping for 892 seconds.\n",
      "queries:  35%|███▌      | 586/1666 [17:55:38<104:14:15, 347.46s/it]Rate limit exceeded. Sleeping for 895 seconds.\n",
      "queries:  35%|███▌      | 589/1666 [18:12:01<81:24:59, 272.14s/it] Rate limit exceeded. Sleeping for 814 seconds.\n",
      "queries:  36%|███▌      | 592/1666 [18:26:38<68:41:11, 230.23s/it] Rate limit exceeded. Sleeping for 837 seconds.\n",
      "queries:  36%|███▌      | 595/1666 [18:40:54<61:32:41, 206.87s/it] Rate limit exceeded. Sleeping for 883 seconds.\n",
      "queries:  36%|███▌      | 598/1666 [18:55:57<60:45:51, 204.82s/it] Rate limit exceeded. Sleeping for 882 seconds.\n",
      "queries:  37%|███▋      | 618/1666 [19:13:45<2:25:48,  8.35s/it]   Rate limit exceeded. Sleeping for 715 seconds.\n",
      "queries:  38%|███▊      | 629/1666 [19:28:23<4:00:52, 13.94s/it]  Rate limit exceeded. Sleeping for 739 seconds.\n",
      "queries:  38%|███▊      | 632/1666 [19:40:51<33:08:21, 115.38s/it]Rate limit exceeded. Sleeping for 892 seconds.\n",
      "queries:  38%|███▊      | 641/1666 [19:57:06<8:08:48, 28.61s/it]   Rate limit exceeded. Sleeping for 819 seconds.\n",
      "queries:  39%|███▊      | 642/1666 [20:10:53<76:16:48, 268.17s/it]Rate limit exceeded. Sleeping for 893 seconds.\n",
      "queries:  39%|███▉      | 656/1666 [20:32:37<14:17:43, 50.95s/it]  Rate limit exceeded. Sleeping for 490 seconds.\n",
      "queries:  40%|███▉      | 663/1666 [20:42:04<9:31:16, 34.17s/it]  Rate limit exceeded. Sleeping for 825 seconds.\n",
      "queries:  40%|████      | 667/1666 [20:56:05<26:38:09, 95.99s/it] Rate limit exceeded. Sleeping for 885 seconds.\n",
      "queries:  41%|████      | 677/1666 [21:12:42<7:06:43, 25.89s/it]  Rate limit exceeded. Sleeping for 790 seconds.\n",
      "queries:  41%|████▏     | 689/1666 [21:31:55<8:12:22, 30.24s/it]  Rate limit exceeded. Sleeping for 537 seconds.\n",
      "queries:  42%|████▏     | 695/1666 [21:41:27<9:29:49, 35.21s/it]  Rate limit exceeded. Sleeping for 867 seconds.\n",
      "queries:  42%|████▏     | 697/1666 [21:56:10<54:52:23, 203.86s/it]Rate limit exceeded. Sleeping for 886 seconds.\n",
      "queries:  42%|████▏     | 700/1666 [22:11:29<56:04:08, 208.95s/it] Rate limit exceeded. Sleeping for 869 seconds.\n",
      "queries:  42%|████▏     | 706/1666 [22:26:49<21:07:45, 79.24s/it]  Rate limit exceeded. Sleeping for 849 seconds.\n",
      "queries:  44%|████▍     | 732/1666 [22:47:47<4:53:24, 18.85s/it]  Rate limit exceeded. Sleeping for 290 seconds.\n",
      "queries:  44%|████▍     | 739/1666 [22:57:36<7:34:25, 29.41s/it]  Rate limit exceeded. Sleeping for 805 seconds.\n",
      "queries:  45%|████▌     | 751/1666 [23:14:20<3:34:09, 14.04s/it]  Rate limit exceeded. Sleeping for 702 seconds.\n",
      "queries:  45%|████▌     | 756/1666 [23:27:51<18:40:19, 73.87s/it] Rate limit exceeded. Sleeping for 792 seconds.\n",
      "queries:  46%|████▌     | 763/1666 [23:42:23<11:03:47, 44.11s/it] Rate limit exceeded. Sleeping for 821 seconds.\n",
      "queries:  46%|████▌     | 764/1666 [23:56:53<73:06:55, 291.81s/it]Rate limit exceeded. Sleeping for 853 seconds.\n",
      "queries:  46%|████▌     | 767/1666 [24:11:36<57:45:52, 231.31s/it] Rate limit exceeded. Sleeping for 871 seconds.\n",
      "queries:  47%|████▋     | 779/1666 [24:28:27<4:45:42, 19.33s/it]   "
     ]
    },
    {
     "name": "stdout",
     "output_type": "stream",
     "text": [
      "503 Service Unavailable\n",
      "Service Unavailable\n"
     ]
    },
    {
     "name": "stderr",
     "output_type": "stream",
     "text": [
      "queries:  47%|████▋     | 783/1666 [24:32:43<9:59:04, 40.71s/it] Rate limit exceeded. Sleeping for 504 seconds.\n",
      "queries:  47%|████▋     | 791/1666 [24:42:48<7:38:09, 31.42s/it]  Rate limit exceeded. Sleeping for 800 seconds.\n",
      "queries:  48%|████▊     | 793/1666 [24:56:28<45:44:13, 188.61s/it]Rate limit exceeded. Sleeping for 882 seconds.\n",
      "queries:  48%|████▊     | 798/1666 [25:12:12<25:13:05, 104.59s/it]Rate limit exceeded. Sleeping for 840 seconds.\n",
      "queries:  48%|████▊     | 800/1666 [25:26:24<55:33:27, 230.96s/it]Rate limit exceeded. Sleeping for 889 seconds.\n",
      "queries:  48%|████▊     | 803/1666 [25:41:41<51:42:20, 215.69s/it] Rate limit exceeded. Sleeping for 874 seconds.\n",
      "queries:  49%|████▉     | 820/1666 [25:58:49<2:50:14, 12.07s/it]  Rate limit exceeded. Sleeping for 747 seconds.\n",
      "queries:  49%|████▉     | 821/1666 [26:11:19<54:51:02, 233.68s/it]Rate limit exceeded. Sleeping for 897 seconds.\n",
      "queries:  50%|████▉     | 829/1666 [26:27:56<11:07:39, 47.86s/it]  Rate limit exceeded. Sleeping for 801 seconds.\n",
      "queries:  51%|█████     | 843/1666 [26:44:33<3:34:49, 15.66s/it]  Rate limit exceeded. Sleeping for 706 seconds.\n",
      "queries:  51%|█████     | 847/1666 [26:57:47<21:11:39, 93.16s/it] Rate limit exceeded. Sleeping for 813 seconds.\n",
      "queries:  51%|█████     | 850/1666 [27:13:12<39:36:24, 174.74s/it]Rate limit exceeded. Sleeping for 790 seconds.\n",
      "queries:  52%|█████▏    | 863/1666 [27:29:11<3:25:46, 15.38s/it]  Rate limit exceeded. Sleeping for 732 seconds.\n",
      "queries:  53%|█████▎    | 878/1666 [27:44:33<2:45:59, 12.64s/it]  Rate limit exceeded. Sleeping for 711 seconds.\n",
      "queries:  53%|█████▎    | 881/1666 [27:57:11<26:25:56, 121.22s/it]Rate limit exceeded. Sleeping for 855 seconds.\n",
      "queries:  53%|█████▎    | 883/1666 [28:11:40<52:51:33, 243.03s/it]Rate limit exceeded. Sleeping for 887 seconds.\n",
      "queries:  53%|█████▎    | 885/1666 [28:26:39<66:53:43, 308.35s/it]Rate limit exceeded. Sleeping for 889 seconds.\n",
      "queries:  53%|█████▎    | 886/1666 [28:41:33<104:52:06, 484.01s/it]Rate limit exceeded. Sleeping for 897 seconds.\n",
      "queries:  55%|█████▍    | 908/1666 [28:59:26<2:06:45, 10.03s/it]   Rate limit exceeded. Sleeping for 726 seconds.\n",
      "queries:  55%|█████▍    | 914/1666 [29:12:11<9:07:11, 43.66s/it]  Rate limit exceeded. Sleeping for 863 seconds.\n",
      "queries:  56%|█████▌    | 929/1666 [29:30:56<3:32:58, 17.34s/it]  Rate limit exceeded. Sleeping for 638 seconds.\n",
      "queries:  56%|█████▌    | 933/1666 [29:42:17<16:01:15, 78.68s/it] Rate limit exceeded. Sleeping for 859 seconds.\n",
      "queries:  57%|█████▋    | 949/1666 [29:58:28<1:33:03,  7.79s/it]  Rate limit exceeded. Sleeping for 788 seconds.\n",
      "queries:  57%|█████▋    | 952/1666 [30:12:02<24:26:30, 123.24s/it]Rate limit exceeded. Sleeping for 876 seconds.\n",
      "queries:  57%|█████▋    | 957/1666 [30:27:18<17:57:09, 91.16s/it] "
     ]
    },
    {
     "name": "stdout",
     "output_type": "stream",
     "text": [
      "503 Service Unavailable\n",
      "Service Unavailable\n"
     ]
    },
    {
     "name": "stderr",
     "output_type": "stream",
     "text": [
      "queries:  58%|█████▊    | 967/1666 [30:30:56<2:17:29, 11.80s/it]  Rate limit exceeded. Sleeping for 643 seconds.\n",
      "queries:  59%|█████▉    | 983/1666 [30:45:25<3:11:32, 16.83s/it]  Rate limit exceeded. Sleeping for 189 seconds.\n",
      "Rate limit exceeded. Sleeping for 83 seconds.\n"
     ]
    },
    {
     "name": "stdout",
     "output_type": "stream",
     "text": [
      "503 Service Unavailable\n",
      "Service Unavailable\n"
     ]
    },
    {
     "name": "stderr",
     "output_type": "stream",
     "text": [
      "queries:  59%|█████▉    | 986/1666 [31:34:18<83:09:10, 440.22s/it] Rate limit exceeded. Sleeping for 449 seconds.\n",
      "queries:  60%|█████▉    | 995/1666 [31:45:22<9:10:17, 49.21s/it]  Rate limit exceeded. Sleeping for 687 seconds.\n",
      "queries:  61%|██████    | 1011/1666 [32:00:34<1:32:41,  8.49s/it] Rate limit exceeded. Sleeping for 677 seconds.\n",
      "queries:  61%|██████    | 1016/1666 [32:13:16<12:06:35, 67.07s/it] Rate limit exceeded. Sleeping for 817 seconds.\n",
      "queries:  61%|██████    | 1018/1666 [32:27:14<37:53:38, 210.52s/it]Rate limit exceeded. Sleeping for 880 seconds.\n",
      "queries:  62%|██████▏   | 1025/1666 [32:44:06<11:06:50, 62.42s/it] Rate limit exceeded. Sleeping for 769 seconds.\n",
      "queries:  62%|██████▏   | 1033/1666 [33:03:19<22:32:57, 128.24s/it]Rate limit exceeded. Sleeping for 518 seconds.\n",
      "queries:  62%|██████▏   | 1036/1666 [33:12:50<23:00:17, 131.46s/it]Rate limit exceeded. Sleeping for 848 seconds.\n",
      "queries:  63%|██████▎   | 1052/1666 [33:29:30<1:55:47, 11.32s/it]  Rate limit exceeded. Sleeping for 750 seconds.\n",
      "queries:  63%|██████▎   | 1056/1666 [33:42:34<14:42:24, 86.79s/it] Rate limit exceeded. Sleeping for 868 seconds.\n",
      "queries:  64%|██████▎   | 1062/1666 [33:57:28<9:52:46, 58.88s/it]  Rate limit exceeded. Sleeping for 875 seconds.\n",
      "queries:  65%|██████▌   | 1085/1666 [34:16:59<1:47:44, 11.13s/it]  Rate limit exceeded. Sleeping for 605 seconds.\n",
      "queries:  65%|██████▌   | 1086/1666 [34:27:12<30:52:05, 191.60s/it]Rate limit exceeded. Sleeping for 894 seconds.\n",
      "queries:  66%|██████▌   | 1092/1666 [34:43:09<12:14:07, 76.74s/it] Rate limit exceeded. Sleeping for 838 seconds.\n",
      "queries:  66%|██████▌   | 1100/1666 [34:58:14<4:48:34, 30.59s/it]  Rate limit exceeded. Sleeping for 835 seconds.\n",
      "queries:  66%|██████▋   | 1107/1666 [35:12:46<5:33:34, 35.80s/it]  Rate limit exceeded. Sleeping for 864 seconds.\n",
      "queries:  67%|██████▋   | 1110/1666 [35:27:35<22:12:24, 143.78s/it]Rate limit exceeded. Sleeping for 876 seconds.\n",
      "queries:  69%|██████▊   | 1143/1666 [35:46:02<47:23,  5.44s/it]    Rate limit exceeded. Sleeping for 670 seconds.\n",
      "queries:  69%|██████▊   | 1145/1666 [35:57:30<21:23:14, 147.78s/it]Rate limit exceeded. Sleeping for 884 seconds.\n",
      "queries:  69%|██████▉   | 1147/1666 [36:12:32<37:54:06, 262.90s/it]Rate limit exceeded. Sleeping for 884 seconds.\n",
      "queries:  70%|██████▉   | 1165/1666 [36:29:13<52:17,  6.26s/it]    Rate limit exceeded. Sleeping for 784 seconds.\n",
      "queries:  70%|███████   | 1167/1666 [36:42:39<24:02:05, 173.40s/it]Rate limit exceeded. Sleeping for 880 seconds.\n",
      "queries:  70%|███████   | 1172/1666 [36:57:53<13:21:00, 97.29s/it] Rate limit exceeded. Sleeping for 868 seconds.\n",
      "queries:  71%|███████   | 1181/1666 [37:14:18<4:07:25, 30.61s/it]  Rate limit exceeded. Sleeping for 783 seconds.\n",
      "queries:  71%|███████   | 1186/1666 [37:28:23<10:07:01, 75.88s/it] Rate limit exceeded. Sleeping for 839 seconds.\n",
      "queries:  71%|███████▏  | 1188/1666 [37:42:37<28:50:55, 217.27s/it]Rate limit exceeded. Sleeping for 886 seconds.\n",
      "queries:  72%|███████▏  | 1193/1666 [37:58:16<14:06:06, 107.33s/it]Rate limit exceeded. Sleeping for 848 seconds.\n",
      "queries:  72%|███████▏  | 1196/1666 [38:13:37<22:47:22, 174.56s/it]Rate limit exceeded. Sleeping for 828 seconds.\n",
      "queries:  72%|███████▏  | 1198/1666 [38:27:41<34:17:15, 263.75s/it]Rate limit exceeded. Sleeping for 885 seconds.\n",
      "queries:  72%|███████▏  | 1202/1666 [38:42:47<20:23:40, 158.23s/it]Rate limit exceeded. Sleeping for 881 seconds.\n",
      "queries:  73%|███████▎  | 1210/1666 [38:59:13<4:55:24, 38.87s/it]  Rate limit exceeded. Sleeping for 797 seconds.\n",
      "queries:  73%|███████▎  | 1212/1666 [39:12:35<23:39:16, 187.57s/it]"
     ]
    },
    {
     "name": "stdout",
     "output_type": "stream",
     "text": [
      "503 Service Unavailable\n",
      "Service Unavailable\n"
     ]
    },
    {
     "name": "stderr",
     "output_type": "stream",
     "text": [
      "queries:  74%|███████▎  | 1225/1666 [39:18:32<1:50:19, 15.01s/it]  Rate limit exceeded. Sleeping for 538 seconds.\n",
      "queries:  74%|███████▍  | 1229/1666 [39:27:39<7:20:25, 60.47s/it]  Rate limit exceeded. Sleeping for 893 seconds.\n",
      "queries:  74%|███████▍  | 1236/1666 [39:43:32<5:06:59, 42.84s/it]  Rate limit exceeded. Sleeping for 841 seconds.\n",
      "queries:  74%|███████▍  | 1238/1666 [39:58:09<24:34:22, 206.69s/it]Rate limit exceeded. Sleeping for 866 seconds.\n",
      "queries:  74%|███████▍  | 1240/1666 [40:12:50<33:53:41, 286.44s/it]Rate limit exceeded. Sleeping for 887 seconds.\n",
      "queries:  75%|███████▌  | 1250/1666 [40:29:33<2:53:05, 24.96s/it]  Rate limit exceeded. Sleeping for 786 seconds.\n",
      "queries:  75%|███████▌  | 1255/1666 [40:43:21<7:41:27, 67.37s/it]  Rate limit exceeded. Sleeping for 252 seconds.\n",
      "Rate limit exceeded. Sleeping for 238 seconds.\n",
      "queries:  76%|███████▌  | 1270/1666 [41:17:07<2:47:34, 25.39s/it]  Rate limit exceeded. Sleeping for 634 seconds.\n",
      "queries:  77%|███████▋  | 1279/1666 [41:29:04<2:03:56, 19.21s/it]  Rate limit exceeded. Sleeping for 819 seconds.\n",
      "queries:  77%|███████▋  | 1291/1666 [41:44:45<1:42:13, 16.36s/it]  Rate limit exceeded. Sleeping for 779 seconds.\n",
      "queries:  78%|███████▊  | 1292/1666 [41:57:54<25:45:10, 247.89s/it]Rate limit exceeded. Sleeping for 892 seconds.\n",
      "queries:  78%|███████▊  | 1306/1666 [42:15:00<59:10,  9.86s/it]    Rate limit exceeded. Sleeping for 734 seconds.\n",
      "Rate limit exceeded. Sleeping for 901 seconds.\n",
      "Rate limit exceeded. Sleeping for 901 seconds.\n",
      "Rate limit exceeded. Sleeping for 901 seconds.\n",
      "Rate limit exceeded. Sleeping for 901 seconds.\n",
      "queries:  78%|███████▊  | 1306/1666 [43:27:52<11:58:51, 119.81s/it]\n"
     ]
    },
    {
     "ename": "KeyboardInterrupt",
     "evalue": "",
     "output_type": "error",
     "traceback": [
      "\u001B[1;31m---------------------------------------------------------------------------\u001B[0m",
      "\u001B[1;31mKeyboardInterrupt\u001B[0m                         Traceback (most recent call last)",
      "Cell \u001B[1;32mIn[77], line 9\u001B[0m\n\u001B[0;32m      7\u001B[0m \u001B[38;5;28;01mwhile\u001B[39;00m \u001B[38;5;129;01mnot\u001B[39;00m done:\n\u001B[0;32m      8\u001B[0m     \u001B[38;5;28;01mtry\u001B[39;00m:\n\u001B[1;32m----> 9\u001B[0m         res \u001B[38;5;241m=\u001B[39m \u001B[43mclient\u001B[49m\u001B[38;5;241;43m.\u001B[39;49m\u001B[43msearch_all_tweets\u001B[49m\u001B[43m(\u001B[49m\u001B[43mquery\u001B[49m\u001B[38;5;241;43m=\u001B[39;49m\u001B[43mquery\u001B[49m\u001B[43m,\u001B[49m\u001B[43m \u001B[49m\u001B[43mnext_token\u001B[49m\u001B[38;5;241;43m=\u001B[39;49m\u001B[43mnext_token\u001B[49m\u001B[43m,\u001B[49m\u001B[43m \u001B[49m\u001B[43mmax_results\u001B[49m\u001B[38;5;241;43m=\u001B[39;49m\u001B[38;5;241;43m500\u001B[39;49m\u001B[43m,\u001B[49m\u001B[43m \u001B[49m\u001B[43mstart_time\u001B[49m\u001B[38;5;241;43m=\u001B[39;49m\u001B[43mstart_date\u001B[49m\u001B[43m,\u001B[49m\u001B[43m \u001B[49m\u001B[43mend_time\u001B[49m\u001B[38;5;241;43m=\u001B[39;49m\u001B[38;5;28;43;01mNone\u001B[39;49;00m\u001B[43m,\u001B[49m\u001B[43m\\\u001B[49m\n\u001B[0;32m     10\u001B[0m \u001B[43m                                       \u001B[49m\u001B[43mplace_fields\u001B[49m\u001B[43m \u001B[49m\u001B[38;5;241;43m=\u001B[39;49m\u001B[43m \u001B[49m\u001B[43m[\u001B[49m\u001B[38;5;124;43m'\u001B[39;49m\u001B[38;5;124;43mid\u001B[39;49m\u001B[38;5;124;43m'\u001B[39;49m\u001B[43m,\u001B[49m\u001B[38;5;124;43m'\u001B[39;49m\u001B[38;5;124;43mfull_name\u001B[39;49m\u001B[38;5;124;43m'\u001B[39;49m\u001B[43m,\u001B[49m\u001B[43m \u001B[49m\u001B[38;5;124;43m'\u001B[39;49m\u001B[38;5;124;43mcountry\u001B[39;49m\u001B[38;5;124;43m'\u001B[39;49m\u001B[43m,\u001B[49m\u001B[43m \u001B[49m\u001B[38;5;124;43m'\u001B[39;49m\u001B[38;5;124;43mgeo\u001B[39;49m\u001B[38;5;124;43m'\u001B[39;49m\u001B[43m,\u001B[49m\u001B[43m \u001B[49m\u001B[38;5;124;43m'\u001B[39;49m\u001B[38;5;124;43mname\u001B[39;49m\u001B[38;5;124;43m'\u001B[39;49m\u001B[43m,\u001B[49m\u001B[43m \u001B[49m\u001B[38;5;124;43m'\u001B[39;49m\u001B[38;5;124;43mplace_type\u001B[39;49m\u001B[38;5;124;43m'\u001B[39;49m\u001B[43m]\u001B[49m\u001B[43m,\u001B[49m\n\u001B[0;32m     11\u001B[0m \u001B[43m                                     \u001B[49m\u001B[43mtweet_fields\u001B[49m\u001B[43m \u001B[49m\u001B[38;5;241;43m=\u001B[39;49m\u001B[43m \u001B[49m\u001B[43m[\u001B[49m\u001B[38;5;124;43m'\u001B[39;49m\u001B[38;5;124;43mid\u001B[39;49m\u001B[38;5;124;43m'\u001B[39;49m\u001B[43m,\u001B[49m\u001B[43m \u001B[49m\u001B[38;5;124;43m'\u001B[39;49m\u001B[38;5;124;43mcreated_at\u001B[39;49m\u001B[38;5;124;43m'\u001B[39;49m\u001B[43m,\u001B[49m\u001B[43m \u001B[49m\u001B[38;5;124;43m'\u001B[39;49m\u001B[38;5;124;43mgeo\u001B[39;49m\u001B[38;5;124;43m'\u001B[39;49m\u001B[43m,\u001B[49m\u001B[43m \u001B[49m\u001B[38;5;124;43m'\u001B[39;49m\u001B[38;5;124;43mpublic_metrics\u001B[39;49m\u001B[38;5;124;43m'\u001B[39;49m\u001B[43m,\u001B[49m\u001B[43m \u001B[49m\u001B[38;5;124;43m'\u001B[39;49m\u001B[38;5;124;43mtext\u001B[39;49m\u001B[38;5;124;43m'\u001B[39;49m\u001B[43m,\u001B[49m\u001B[43m \u001B[49m\u001B[38;5;124;43m'\u001B[39;49m\u001B[38;5;124;43medit_history_tweet_ids\u001B[39;49m\u001B[38;5;124;43m'\u001B[39;49m\u001B[43m,\u001B[49m\u001B[43m \u001B[49m\u001B[38;5;124;43m'\u001B[39;49m\u001B[38;5;124;43mattachments\u001B[39;49m\u001B[38;5;124;43m'\u001B[39;49m\u001B[43m,\u001B[49m\u001B[43m \u001B[49m\u001B[38;5;124;43m'\u001B[39;49m\u001B[38;5;124;43mauthor_id\u001B[39;49m\u001B[38;5;124;43m'\u001B[39;49m\u001B[43m,\u001B[49m\u001B[43m  \u001B[49m\u001B[38;5;124;43m'\u001B[39;49m\u001B[38;5;124;43mconversation_id\u001B[39;49m\u001B[38;5;124;43m'\u001B[39;49m\u001B[43m,\u001B[49m\u001B[43m \u001B[49m\u001B[38;5;124;43m'\u001B[39;49m\u001B[38;5;124;43mentities\u001B[39;49m\u001B[38;5;124;43m'\u001B[39;49m\u001B[43m,\u001B[49m\u001B[43m \u001B[49m\u001B[38;5;124;43m'\u001B[39;49m\u001B[38;5;124;43min_reply_to_user_id\u001B[39;49m\u001B[38;5;124;43m'\u001B[39;49m\u001B[43m,\u001B[49m\u001B[43m \u001B[49m\u001B[38;5;124;43m'\u001B[39;49m\u001B[38;5;124;43mlang\u001B[39;49m\u001B[38;5;124;43m'\u001B[39;49m\u001B[43m,\u001B[49m\u001B[43m \u001B[49m\u001B[38;5;124;43m'\u001B[39;49m\u001B[38;5;124;43mpossibly_sensitive\u001B[39;49m\u001B[38;5;124;43m'\u001B[39;49m\u001B[43m,\u001B[49m\u001B[43m \u001B[49m\u001B[38;5;124;43m'\u001B[39;49m\u001B[38;5;124;43mreferenced_tweets\u001B[39;49m\u001B[38;5;124;43m'\u001B[39;49m\u001B[43m,\u001B[49m\u001B[43m \u001B[49m\u001B[38;5;124;43m'\u001B[39;49m\u001B[38;5;124;43mreply_settings\u001B[39;49m\u001B[38;5;124;43m'\u001B[39;49m\u001B[43m,\u001B[49m\u001B[43m \u001B[49m\u001B[38;5;124;43m'\u001B[39;49m\u001B[38;5;124;43msource\u001B[39;49m\u001B[38;5;124;43m'\u001B[39;49m\u001B[43m,\u001B[49m\u001B[43m \u001B[49m\u001B[38;5;124;43m'\u001B[39;49m\u001B[38;5;124;43mwithheld\u001B[39;49m\u001B[38;5;124;43m'\u001B[39;49m\u001B[43m]\u001B[49m\u001B[43m,\u001B[49m\u001B[43m \u001B[49m\u001B[38;5;66;43;03m# missing edit controls and  other fields that require user auth, 'context_annotations' requires <100 results\u001B[39;49;00m\n\u001B[0;32m     12\u001B[0m \u001B[43m                    \u001B[49m\u001B[43mmedia_fields\u001B[49m\u001B[38;5;241;43m=\u001B[39;49m\u001B[43m[\u001B[49m\u001B[38;5;124;43m'\u001B[39;49m\u001B[38;5;124;43murl\u001B[39;49m\u001B[38;5;124;43m'\u001B[39;49m\u001B[43m,\u001B[49m\u001B[43m \u001B[49m\u001B[38;5;124;43m'\u001B[39;49m\u001B[38;5;124;43malt_text\u001B[39;49m\u001B[38;5;124;43m'\u001B[39;49m\u001B[43m,\u001B[49m\u001B[38;5;124;43m'\u001B[39;49m\u001B[38;5;124;43mpublic_metrics\u001B[39;49m\u001B[38;5;124;43m'\u001B[39;49m\u001B[43m,\u001B[49m\u001B[43m \u001B[49m\u001B[38;5;124;43m'\u001B[39;49m\u001B[38;5;124;43mtype\u001B[39;49m\u001B[38;5;124;43m'\u001B[39;49m\u001B[43m,\u001B[49m\u001B[43m \u001B[49m\u001B[38;5;124;43m'\u001B[39;49m\u001B[38;5;124;43mmedia_key\u001B[39;49m\u001B[38;5;124;43m'\u001B[39;49m\u001B[43m,\u001B[49m\u001B[43m \u001B[49m\u001B[38;5;124;43m'\u001B[39;49m\u001B[38;5;124;43mduration_ms\u001B[39;49m\u001B[38;5;124;43m'\u001B[39;49m\u001B[43m]\u001B[49m\u001B[43m,\u001B[49m\u001B[43m  \u001B[49m\u001B[43m\\\u001B[49m\n\u001B[0;32m     13\u001B[0m \u001B[43m                    \u001B[49m\u001B[43mpoll_fields\u001B[49m\u001B[38;5;241;43m=\u001B[39;49m\u001B[43m[\u001B[49m\u001B[38;5;124;43m'\u001B[39;49m\u001B[38;5;124;43mid\u001B[39;49m\u001B[38;5;124;43m'\u001B[39;49m\u001B[43m,\u001B[49m\u001B[43m \u001B[49m\u001B[38;5;124;43m'\u001B[39;49m\u001B[38;5;124;43moptions\u001B[39;49m\u001B[38;5;124;43m'\u001B[39;49m\u001B[43m,\u001B[49m\u001B[43m \u001B[49m\u001B[38;5;124;43m'\u001B[39;49m\u001B[38;5;124;43mduration_minutes\u001B[39;49m\u001B[38;5;124;43m'\u001B[39;49m\u001B[43m,\u001B[49m\u001B[43m \u001B[49m\u001B[38;5;124;43m'\u001B[39;49m\u001B[38;5;124;43mend_datetime\u001B[39;49m\u001B[38;5;124;43m'\u001B[39;49m\u001B[43m,\u001B[49m\u001B[43m \u001B[49m\u001B[38;5;124;43m'\u001B[39;49m\u001B[38;5;124;43mvoting_status\u001B[39;49m\u001B[38;5;124;43m'\u001B[39;49m\u001B[43m]\u001B[49m\u001B[43m,\u001B[49m\n\u001B[0;32m     14\u001B[0m \u001B[43m                                       \u001B[49m\u001B[43msince_id\u001B[49m\u001B[38;5;241;43m=\u001B[39;49m\u001B[38;5;28;43;01mNone\u001B[39;49;00m\u001B[43m,\u001B[49m\u001B[43m \u001B[49m\u001B[43msort_order\u001B[49m\u001B[38;5;241;43m=\u001B[39;49m\u001B[38;5;28;43;01mNone\u001B[39;49;00m\u001B[43m,\u001B[49m\u001B[43m \u001B[49m\u001B[43m\\\u001B[49m\n\u001B[0;32m     15\u001B[0m \u001B[43m                    \u001B[49m\u001B[43muntil_id\u001B[49m\u001B[38;5;241;43m=\u001B[39;49m\u001B[38;5;28;43;01mNone\u001B[39;49;00m\u001B[43m,\u001B[49m\u001B[43m \u001B[49m\u001B[43muser_fields\u001B[49m\u001B[38;5;241;43m=\u001B[39;49m\u001B[43m[\u001B[49m\u001B[38;5;124;43m'\u001B[39;49m\u001B[38;5;124;43mcreated_at\u001B[39;49m\u001B[38;5;124;43m'\u001B[39;49m\u001B[43m,\u001B[49m\u001B[43m \u001B[49m\u001B[38;5;124;43m'\u001B[39;49m\u001B[38;5;124;43mdescription\u001B[39;49m\u001B[38;5;124;43m'\u001B[39;49m\u001B[43m,\u001B[49m\u001B[43m \u001B[49m\u001B[38;5;124;43m'\u001B[39;49m\u001B[38;5;124;43mentities\u001B[39;49m\u001B[38;5;124;43m'\u001B[39;49m\u001B[43m,\u001B[49m\u001B[43m \u001B[49m\u001B[38;5;124;43m'\u001B[39;49m\u001B[38;5;124;43mid\u001B[39;49m\u001B[38;5;124;43m'\u001B[39;49m\u001B[43m,\u001B[49m\u001B[43m \u001B[49m\u001B[38;5;124;43m'\u001B[39;49m\u001B[38;5;124;43mlocation\u001B[39;49m\u001B[38;5;124;43m'\u001B[39;49m\u001B[43m,\u001B[49m\u001B[43m \u001B[49m\u001B[38;5;124;43m'\u001B[39;49m\u001B[38;5;124;43mname\u001B[39;49m\u001B[38;5;124;43m'\u001B[39;49m\u001B[43m,\u001B[49m\u001B[43m \u001B[49m\u001B[38;5;124;43m'\u001B[39;49m\u001B[38;5;124;43mpinned_tweet_id\u001B[39;49m\u001B[38;5;124;43m'\u001B[39;49m\u001B[43m,\u001B[49m\n\u001B[0;32m     16\u001B[0m \u001B[43m           \u001B[49m\u001B[38;5;124;43m'\u001B[39;49m\u001B[38;5;124;43mprofile_image_url\u001B[39;49m\u001B[38;5;124;43m'\u001B[39;49m\u001B[43m,\u001B[49m\u001B[43m \u001B[49m\u001B[38;5;124;43m'\u001B[39;49m\u001B[38;5;124;43mprotected\u001B[39;49m\u001B[38;5;124;43m'\u001B[39;49m\u001B[43m,\u001B[49m\u001B[43m \u001B[49m\u001B[38;5;124;43m'\u001B[39;49m\u001B[38;5;124;43mpublic_metrics\u001B[39;49m\u001B[38;5;124;43m'\u001B[39;49m\u001B[43m,\u001B[49m\u001B[43m \u001B[49m\u001B[38;5;124;43m'\u001B[39;49m\u001B[38;5;124;43murl\u001B[39;49m\u001B[38;5;124;43m'\u001B[39;49m\u001B[43m,\u001B[49m\u001B[43m \u001B[49m\u001B[38;5;124;43m'\u001B[39;49m\u001B[38;5;124;43musername\u001B[39;49m\u001B[38;5;124;43m'\u001B[39;49m\u001B[43m,\u001B[49m\u001B[43m \u001B[49m\u001B[38;5;124;43m'\u001B[39;49m\u001B[38;5;124;43mverified\u001B[39;49m\u001B[38;5;124;43m'\u001B[39;49m\u001B[43m,\u001B[49m\u001B[43m \u001B[49m\u001B[38;5;124;43m'\u001B[39;49m\u001B[38;5;124;43mwithheld\u001B[39;49m\u001B[38;5;124;43m'\u001B[39;49m\u001B[43m]\u001B[49m\u001B[43m)\u001B[49m\n\u001B[0;32m     17\u001B[0m         \u001B[38;5;28;01mfor\u001B[39;00m tweet \u001B[38;5;129;01min\u001B[39;00m res\u001B[38;5;241m.\u001B[39mdata:\n\u001B[0;32m     18\u001B[0m             f\u001B[38;5;241m.\u001B[39mwrite(json\u001B[38;5;241m.\u001B[39mdumps(tweet\u001B[38;5;241m.\u001B[39mdata, sort_keys\u001B[38;5;241m=\u001B[39m\u001B[38;5;28;01mTrue\u001B[39;00m)\u001B[38;5;241m+\u001B[39m\u001B[38;5;124m'\u001B[39m\u001B[38;5;130;01m\\n\u001B[39;00m\u001B[38;5;124m'\u001B[39m)\n",
      "File \u001B[1;32m~\\PycharmProjects\\twitter_polls\\venv\\lib\\site-packages\\tweepy\\client.py:1163\u001B[0m, in \u001B[0;36mClient.search_all_tweets\u001B[1;34m(self, query, **params)\u001B[0m\n\u001B[0;32m   1071\u001B[0m \u001B[38;5;250m\u001B[39m\u001B[38;5;124;03m\"\"\"search_all_tweets( \\\u001B[39;00m\n\u001B[0;32m   1072\u001B[0m \u001B[38;5;124;03m    query, *, end_time=None, expansions=None, max_results=None, \\\u001B[39;00m\n\u001B[0;32m   1073\u001B[0m \u001B[38;5;124;03m    media_fields=None, next_token=None, place_fields=None, \\\u001B[39;00m\n\u001B[1;32m   (...)\u001B[0m\n\u001B[0;32m   1160\u001B[0m \u001B[38;5;124;03m.. _pagination: https://developer.twitter.com/en/docs/twitter-api/tweets/search/integrate/paginate\u001B[39;00m\n\u001B[0;32m   1161\u001B[0m \u001B[38;5;124;03m\"\"\"\u001B[39;00m\n\u001B[0;32m   1162\u001B[0m params[\u001B[38;5;124m\"\u001B[39m\u001B[38;5;124mquery\u001B[39m\u001B[38;5;124m\"\u001B[39m] \u001B[38;5;241m=\u001B[39m query\n\u001B[1;32m-> 1163\u001B[0m \u001B[38;5;28;01mreturn\u001B[39;00m \u001B[38;5;28;43mself\u001B[39;49m\u001B[38;5;241;43m.\u001B[39;49m\u001B[43m_make_request\u001B[49m\u001B[43m(\u001B[49m\n\u001B[0;32m   1164\u001B[0m \u001B[43m    \u001B[49m\u001B[38;5;124;43m\"\u001B[39;49m\u001B[38;5;124;43mGET\u001B[39;49m\u001B[38;5;124;43m\"\u001B[39;49m\u001B[43m,\u001B[49m\u001B[43m \u001B[49m\u001B[38;5;124;43m\"\u001B[39;49m\u001B[38;5;124;43m/2/tweets/search/all\u001B[39;49m\u001B[38;5;124;43m\"\u001B[39;49m\u001B[43m,\u001B[49m\u001B[43m \u001B[49m\u001B[43mparams\u001B[49m\u001B[38;5;241;43m=\u001B[39;49m\u001B[43mparams\u001B[49m\u001B[43m,\u001B[49m\n\u001B[0;32m   1165\u001B[0m \u001B[43m    \u001B[49m\u001B[43mendpoint_parameters\u001B[49m\u001B[38;5;241;43m=\u001B[39;49m\u001B[43m(\u001B[49m\n\u001B[0;32m   1166\u001B[0m \u001B[43m        \u001B[49m\u001B[38;5;124;43m\"\u001B[39;49m\u001B[38;5;124;43mend_time\u001B[39;49m\u001B[38;5;124;43m\"\u001B[39;49m\u001B[43m,\u001B[49m\u001B[43m \u001B[49m\u001B[38;5;124;43m\"\u001B[39;49m\u001B[38;5;124;43mexpansions\u001B[39;49m\u001B[38;5;124;43m\"\u001B[39;49m\u001B[43m,\u001B[49m\u001B[43m \u001B[49m\u001B[38;5;124;43m\"\u001B[39;49m\u001B[38;5;124;43mmax_results\u001B[39;49m\u001B[38;5;124;43m\"\u001B[39;49m\u001B[43m,\u001B[49m\u001B[43m \u001B[49m\u001B[38;5;124;43m\"\u001B[39;49m\u001B[38;5;124;43mmedia.fields\u001B[39;49m\u001B[38;5;124;43m\"\u001B[39;49m\u001B[43m,\u001B[49m\n\u001B[0;32m   1167\u001B[0m \u001B[43m        \u001B[49m\u001B[38;5;124;43m\"\u001B[39;49m\u001B[38;5;124;43mnext_token\u001B[39;49m\u001B[38;5;124;43m\"\u001B[39;49m\u001B[43m,\u001B[49m\u001B[43m \u001B[49m\u001B[38;5;124;43m\"\u001B[39;49m\u001B[38;5;124;43mplace.fields\u001B[39;49m\u001B[38;5;124;43m\"\u001B[39;49m\u001B[43m,\u001B[49m\u001B[43m \u001B[49m\u001B[38;5;124;43m\"\u001B[39;49m\u001B[38;5;124;43mpoll.fields\u001B[39;49m\u001B[38;5;124;43m\"\u001B[39;49m\u001B[43m,\u001B[49m\u001B[43m \u001B[49m\u001B[38;5;124;43m\"\u001B[39;49m\u001B[38;5;124;43mquery\u001B[39;49m\u001B[38;5;124;43m\"\u001B[39;49m\u001B[43m,\u001B[49m\n\u001B[0;32m   1168\u001B[0m \u001B[43m        \u001B[49m\u001B[38;5;124;43m\"\u001B[39;49m\u001B[38;5;124;43msince_id\u001B[39;49m\u001B[38;5;124;43m\"\u001B[39;49m\u001B[43m,\u001B[49m\u001B[43m \u001B[49m\u001B[38;5;124;43m\"\u001B[39;49m\u001B[38;5;124;43msort_order\u001B[39;49m\u001B[38;5;124;43m\"\u001B[39;49m\u001B[43m,\u001B[49m\u001B[43m \u001B[49m\u001B[38;5;124;43m\"\u001B[39;49m\u001B[38;5;124;43mstart_time\u001B[39;49m\u001B[38;5;124;43m\"\u001B[39;49m\u001B[43m,\u001B[49m\u001B[43m \u001B[49m\u001B[38;5;124;43m\"\u001B[39;49m\u001B[38;5;124;43mtweet.fields\u001B[39;49m\u001B[38;5;124;43m\"\u001B[39;49m\u001B[43m,\u001B[49m\n\u001B[0;32m   1169\u001B[0m \u001B[43m        \u001B[49m\u001B[38;5;124;43m\"\u001B[39;49m\u001B[38;5;124;43muntil_id\u001B[39;49m\u001B[38;5;124;43m\"\u001B[39;49m\u001B[43m,\u001B[49m\u001B[43m \u001B[49m\u001B[38;5;124;43m\"\u001B[39;49m\u001B[38;5;124;43muser.fields\u001B[39;49m\u001B[38;5;124;43m\"\u001B[39;49m\n\u001B[0;32m   1170\u001B[0m \u001B[43m    \u001B[49m\u001B[43m)\u001B[49m\u001B[43m,\u001B[49m\u001B[43m \u001B[49m\u001B[43mdata_type\u001B[49m\u001B[38;5;241;43m=\u001B[39;49m\u001B[43mTweet\u001B[49m\n\u001B[0;32m   1171\u001B[0m \u001B[43m\u001B[49m\u001B[43m)\u001B[49m\n",
      "File \u001B[1;32m~\\PycharmProjects\\twitter_polls\\venv\\lib\\site-packages\\tweepy\\client.py:129\u001B[0m, in \u001B[0;36mBaseClient._make_request\u001B[1;34m(self, method, route, params, endpoint_parameters, json, data_type, user_auth)\u001B[0m\n\u001B[0;32m    123\u001B[0m \u001B[38;5;28;01mdef\u001B[39;00m \u001B[38;5;21m_make_request\u001B[39m(\n\u001B[0;32m    124\u001B[0m     \u001B[38;5;28mself\u001B[39m, method, route, params\u001B[38;5;241m=\u001B[39m{}, endpoint_parameters\u001B[38;5;241m=\u001B[39m(), json\u001B[38;5;241m=\u001B[39m\u001B[38;5;28;01mNone\u001B[39;00m,\n\u001B[0;32m    125\u001B[0m     data_type\u001B[38;5;241m=\u001B[39m\u001B[38;5;28;01mNone\u001B[39;00m, user_auth\u001B[38;5;241m=\u001B[39m\u001B[38;5;28;01mFalse\u001B[39;00m\n\u001B[0;32m    126\u001B[0m ):\n\u001B[0;32m    127\u001B[0m     request_params \u001B[38;5;241m=\u001B[39m \u001B[38;5;28mself\u001B[39m\u001B[38;5;241m.\u001B[39m_process_params(params, endpoint_parameters)\n\u001B[1;32m--> 129\u001B[0m     response \u001B[38;5;241m=\u001B[39m \u001B[38;5;28;43mself\u001B[39;49m\u001B[38;5;241;43m.\u001B[39;49m\u001B[43mrequest\u001B[49m\u001B[43m(\u001B[49m\u001B[43mmethod\u001B[49m\u001B[43m,\u001B[49m\u001B[43m \u001B[49m\u001B[43mroute\u001B[49m\u001B[43m,\u001B[49m\u001B[43m \u001B[49m\u001B[43mparams\u001B[49m\u001B[38;5;241;43m=\u001B[39;49m\u001B[43mrequest_params\u001B[49m\u001B[43m,\u001B[49m\n\u001B[0;32m    130\u001B[0m \u001B[43m                            \u001B[49m\u001B[43mjson\u001B[49m\u001B[38;5;241;43m=\u001B[39;49m\u001B[43mjson\u001B[49m\u001B[43m,\u001B[49m\u001B[43m \u001B[49m\u001B[43muser_auth\u001B[49m\u001B[38;5;241;43m=\u001B[39;49m\u001B[43muser_auth\u001B[49m\u001B[43m)\u001B[49m\n\u001B[0;32m    132\u001B[0m     \u001B[38;5;28;01mif\u001B[39;00m \u001B[38;5;28mself\u001B[39m\u001B[38;5;241m.\u001B[39mreturn_type \u001B[38;5;129;01mis\u001B[39;00m requests\u001B[38;5;241m.\u001B[39mResponse:\n\u001B[0;32m    133\u001B[0m         \u001B[38;5;28;01mreturn\u001B[39;00m response\n",
      "File \u001B[1;32m~\\PycharmProjects\\twitter_polls\\venv\\lib\\site-packages\\tweepy\\client.py:113\u001B[0m, in \u001B[0;36mBaseClient.request\u001B[1;34m(self, method, route, params, json, user_auth)\u001B[0m\n\u001B[0;32m    108\u001B[0m         log\u001B[38;5;241m.\u001B[39mwarning(\n\u001B[0;32m    109\u001B[0m             \u001B[38;5;124m\"\u001B[39m\u001B[38;5;124mRate limit exceeded. \u001B[39m\u001B[38;5;124m\"\u001B[39m\n\u001B[0;32m    110\u001B[0m             \u001B[38;5;124mf\u001B[39m\u001B[38;5;124m\"\u001B[39m\u001B[38;5;124mSleeping for \u001B[39m\u001B[38;5;132;01m{\u001B[39;00msleep_time\u001B[38;5;132;01m}\u001B[39;00m\u001B[38;5;124m seconds.\u001B[39m\u001B[38;5;124m\"\u001B[39m\n\u001B[0;32m    111\u001B[0m         )\n\u001B[0;32m    112\u001B[0m         time\u001B[38;5;241m.\u001B[39msleep(sleep_time)\n\u001B[1;32m--> 113\u001B[0m     \u001B[38;5;28;01mreturn\u001B[39;00m \u001B[38;5;28;43mself\u001B[39;49m\u001B[38;5;241;43m.\u001B[39;49m\u001B[43mrequest\u001B[49m\u001B[43m(\u001B[49m\u001B[43mmethod\u001B[49m\u001B[43m,\u001B[49m\u001B[43m \u001B[49m\u001B[43mroute\u001B[49m\u001B[43m,\u001B[49m\u001B[43m \u001B[49m\u001B[43mparams\u001B[49m\u001B[43m,\u001B[49m\u001B[43m \u001B[49m\u001B[43mjson\u001B[49m\u001B[43m,\u001B[49m\u001B[43m \u001B[49m\u001B[43muser_auth\u001B[49m\u001B[43m)\u001B[49m\n\u001B[0;32m    114\u001B[0m \u001B[38;5;28;01melse\u001B[39;00m:\n\u001B[0;32m    115\u001B[0m     \u001B[38;5;28;01mraise\u001B[39;00m TooManyRequests(response)\n",
      "File \u001B[1;32m~\\PycharmProjects\\twitter_polls\\venv\\lib\\site-packages\\tweepy\\client.py:113\u001B[0m, in \u001B[0;36mBaseClient.request\u001B[1;34m(self, method, route, params, json, user_auth)\u001B[0m\n\u001B[0;32m    108\u001B[0m         log\u001B[38;5;241m.\u001B[39mwarning(\n\u001B[0;32m    109\u001B[0m             \u001B[38;5;124m\"\u001B[39m\u001B[38;5;124mRate limit exceeded. \u001B[39m\u001B[38;5;124m\"\u001B[39m\n\u001B[0;32m    110\u001B[0m             \u001B[38;5;124mf\u001B[39m\u001B[38;5;124m\"\u001B[39m\u001B[38;5;124mSleeping for \u001B[39m\u001B[38;5;132;01m{\u001B[39;00msleep_time\u001B[38;5;132;01m}\u001B[39;00m\u001B[38;5;124m seconds.\u001B[39m\u001B[38;5;124m\"\u001B[39m\n\u001B[0;32m    111\u001B[0m         )\n\u001B[0;32m    112\u001B[0m         time\u001B[38;5;241m.\u001B[39msleep(sleep_time)\n\u001B[1;32m--> 113\u001B[0m     \u001B[38;5;28;01mreturn\u001B[39;00m \u001B[38;5;28;43mself\u001B[39;49m\u001B[38;5;241;43m.\u001B[39;49m\u001B[43mrequest\u001B[49m\u001B[43m(\u001B[49m\u001B[43mmethod\u001B[49m\u001B[43m,\u001B[49m\u001B[43m \u001B[49m\u001B[43mroute\u001B[49m\u001B[43m,\u001B[49m\u001B[43m \u001B[49m\u001B[43mparams\u001B[49m\u001B[43m,\u001B[49m\u001B[43m \u001B[49m\u001B[43mjson\u001B[49m\u001B[43m,\u001B[49m\u001B[43m \u001B[49m\u001B[43muser_auth\u001B[49m\u001B[43m)\u001B[49m\n\u001B[0;32m    114\u001B[0m \u001B[38;5;28;01melse\u001B[39;00m:\n\u001B[0;32m    115\u001B[0m     \u001B[38;5;28;01mraise\u001B[39;00m TooManyRequests(response)\n",
      "    \u001B[1;31m[... skipping similar frames: BaseClient.request at line 113 (1 times)]\u001B[0m\n",
      "File \u001B[1;32m~\\PycharmProjects\\twitter_polls\\venv\\lib\\site-packages\\tweepy\\client.py:113\u001B[0m, in \u001B[0;36mBaseClient.request\u001B[1;34m(self, method, route, params, json, user_auth)\u001B[0m\n\u001B[0;32m    108\u001B[0m         log\u001B[38;5;241m.\u001B[39mwarning(\n\u001B[0;32m    109\u001B[0m             \u001B[38;5;124m\"\u001B[39m\u001B[38;5;124mRate limit exceeded. \u001B[39m\u001B[38;5;124m\"\u001B[39m\n\u001B[0;32m    110\u001B[0m             \u001B[38;5;124mf\u001B[39m\u001B[38;5;124m\"\u001B[39m\u001B[38;5;124mSleeping for \u001B[39m\u001B[38;5;132;01m{\u001B[39;00msleep_time\u001B[38;5;132;01m}\u001B[39;00m\u001B[38;5;124m seconds.\u001B[39m\u001B[38;5;124m\"\u001B[39m\n\u001B[0;32m    111\u001B[0m         )\n\u001B[0;32m    112\u001B[0m         time\u001B[38;5;241m.\u001B[39msleep(sleep_time)\n\u001B[1;32m--> 113\u001B[0m     \u001B[38;5;28;01mreturn\u001B[39;00m \u001B[38;5;28;43mself\u001B[39;49m\u001B[38;5;241;43m.\u001B[39;49m\u001B[43mrequest\u001B[49m\u001B[43m(\u001B[49m\u001B[43mmethod\u001B[49m\u001B[43m,\u001B[49m\u001B[43m \u001B[49m\u001B[43mroute\u001B[49m\u001B[43m,\u001B[49m\u001B[43m \u001B[49m\u001B[43mparams\u001B[49m\u001B[43m,\u001B[49m\u001B[43m \u001B[49m\u001B[43mjson\u001B[49m\u001B[43m,\u001B[49m\u001B[43m \u001B[49m\u001B[43muser_auth\u001B[49m\u001B[43m)\u001B[49m\n\u001B[0;32m    114\u001B[0m \u001B[38;5;28;01melse\u001B[39;00m:\n\u001B[0;32m    115\u001B[0m     \u001B[38;5;28;01mraise\u001B[39;00m TooManyRequests(response)\n",
      "File \u001B[1;32m~\\PycharmProjects\\twitter_polls\\venv\\lib\\site-packages\\tweepy\\client.py:112\u001B[0m, in \u001B[0;36mBaseClient.request\u001B[1;34m(self, method, route, params, json, user_auth)\u001B[0m\n\u001B[0;32m    107\u001B[0m     \u001B[38;5;28;01mif\u001B[39;00m sleep_time \u001B[38;5;241m>\u001B[39m \u001B[38;5;241m0\u001B[39m:\n\u001B[0;32m    108\u001B[0m         log\u001B[38;5;241m.\u001B[39mwarning(\n\u001B[0;32m    109\u001B[0m             \u001B[38;5;124m\"\u001B[39m\u001B[38;5;124mRate limit exceeded. \u001B[39m\u001B[38;5;124m\"\u001B[39m\n\u001B[0;32m    110\u001B[0m             \u001B[38;5;124mf\u001B[39m\u001B[38;5;124m\"\u001B[39m\u001B[38;5;124mSleeping for \u001B[39m\u001B[38;5;132;01m{\u001B[39;00msleep_time\u001B[38;5;132;01m}\u001B[39;00m\u001B[38;5;124m seconds.\u001B[39m\u001B[38;5;124m\"\u001B[39m\n\u001B[0;32m    111\u001B[0m         )\n\u001B[1;32m--> 112\u001B[0m         \u001B[43mtime\u001B[49m\u001B[38;5;241;43m.\u001B[39;49m\u001B[43msleep\u001B[49m\u001B[43m(\u001B[49m\u001B[43msleep_time\u001B[49m\u001B[43m)\u001B[49m\n\u001B[0;32m    113\u001B[0m     \u001B[38;5;28;01mreturn\u001B[39;00m \u001B[38;5;28mself\u001B[39m\u001B[38;5;241m.\u001B[39mrequest(method, route, params, json, user_auth)\n\u001B[0;32m    114\u001B[0m \u001B[38;5;28;01melse\u001B[39;00m:\n",
      "\u001B[1;31mKeyboardInterrupt\u001B[0m: "
     ]
    }
   ],
   "source": [
    "out_path = os.path.join(DATA_PATH, f'italychurchtoo_nolang_convo.jsonl')\n",
    "errors = list()\n",
    "with open(out_path, 'a+') as f:\n",
    "    for query in tqdm(queries, 'queries'):\n",
    "        done = False\n",
    "        next_token = None\n",
    "        while not done:\n",
    "            try:\n",
    "                res = client.search_all_tweets(query=query, next_token=next_token, max_results=500, start_time=start_date, end_time=None,\\\n",
    "                                               place_fields = ['id','full_name', 'country', 'geo', 'name', 'place_type'],\n",
    "                                             tweet_fields = ['id', 'created_at', 'geo', 'public_metrics', 'text', 'edit_history_tweet_ids', 'attachments', 'author_id',  'conversation_id', 'entities', 'in_reply_to_user_id', 'lang', 'possibly_sensitive', 'referenced_tweets', 'reply_settings', 'source', 'withheld'], # missing edit controls and  other fields that require user auth, 'context_annotations' requires <100 results\n",
    "                            media_fields=['url', 'alt_text','public_metrics', 'type', 'media_key', 'duration_ms'],  \\\n",
    "                            poll_fields=['id', 'options', 'duration_minutes', 'end_datetime', 'voting_status'],\n",
    "                                               since_id=None, sort_order=None, \\\n",
    "                            until_id=None, user_fields=['created_at', 'description', 'entities', 'id', 'location', 'name', 'pinned_tweet_id',\n",
    "                   'profile_image_url', 'protected', 'public_metrics', 'url', 'username', 'verified', 'withheld'])\n",
    "                for tweet in res.data:\n",
    "                    f.write(json.dumps(tweet.data, sort_keys=True)+'\\n')\n",
    "                next_token = res.meta.get('next_token', None)\n",
    "                if not next_token:\n",
    "                    done=True\n",
    "\n",
    "            except TweepyException as e:\n",
    "                print(e)\n",
    "                errors.append(query)\n",
    "                time.sleep(60)\n",
    "                done=True"
   ],
   "metadata": {
    "collapsed": false
   }
  },
  {
   "cell_type": "code",
   "execution_count": 79,
   "outputs": [
    {
     "data": {
      "text/plain": "1666"
     },
     "execution_count": 79,
     "metadata": {},
     "output_type": "execute_result"
    }
   ],
   "source": [
    "len(queries)"
   ],
   "metadata": {
    "collapsed": false
   }
  },
  {
   "cell_type": "code",
   "execution_count": 88,
   "outputs": [],
   "source": [
    "remaining = queries[1304:]+[\"conversation_id:837194261326147584 OR conversation_id:1040019666771603472 OR conversation_id:260513316135378946 OR conversation_id:1236873220063551488 OR conversation_id:1314599168120414209 OR conversation_id:1086055188862062592 OR conversation_id:1033467210226978817 OR conversation_id:844327187486593024 OR conversation_id:385163694533255168 OR conversation_id:383601963549868032 OR conversation_id:209263740821061633 OR conversation_id:1486399242885373962 OR conversation_id:515432217255104512 OR conversation_id:1279391502041481216 OR conversation_id:1609808498677653506 OR conversation_id:1063063349116592128 OR conversation_id:1452979688322785290 OR conversation_id:1099070912752730112 OR conversation_id:1067480544978493440 OR conversation_id:1409057350103805952 OR conversation_id:994196327826362368 OR conversation_id:1266592887107715073 OR conversation_id:1268627780540874752 OR conversation_id:1606488571606605824 OR conversation_id:1603590403667955713 OR conversation_id:1542892328012201989\",\n",
    "\"conversation_id:1038493214771167233 OR conversation_id:1586360919595966466 OR conversation_id:1166258903929237504 OR conversation_id:705417127528951809 OR conversation_id:955470119055978496 OR conversation_id:1134458316875292673 OR conversation_id:881853108694994944 OR conversation_id:1274070209255653377 OR conversation_id:1500661157585047554 OR conversation_id:1100466157834907651 OR conversation_id:310872385702223872 OR conversation_id:191835414917689344 OR conversation_id:982257389712719883 OR conversation_id:1136250500326875139 OR conversation_id:651644548754612224 OR conversation_id:557502481761320962 OR conversation_id:1610045988693020677 OR conversation_id:1556414077441818624 OR conversation_id:148129100412887041 OR conversation_id:1540715089778688000 OR conversation_id:1326247136577531904 OR conversation_id:652099988730855424 OR conversation_id:964872633115381760 OR conversation_id:831840602815885313 OR conversation_id:251082925653770241 OR conversation_id:1465458347285651461\",\n",
    "\"conversation_id:1278965541705846785 OR conversation_id:1560318731804344329 OR conversation_id:1611659791532978176 OR conversation_id:1479132545899974662 OR conversation_id:1030134624746438656 OR conversation_id:648226438580187136 OR conversation_id:1266130776929730560 OR conversation_id:307157456306442240 OR conversation_id:900276844708188160 OR conversation_id:1235782768556224512 OR conversation_id:1591483304074936320 OR conversation_id:1482864292261203968 OR conversation_id:212645159400247296 OR conversation_id:1024976198231678976 OR conversation_id:1564377876287438850 OR conversation_id:1152919825611669509 OR conversation_id:1128971683430375424 OR conversation_id:654429881372123136 OR conversation_id:1235681213635063816 OR conversation_id:1134085821580161026 OR conversation_id:999405008595636224 OR conversation_id:839386285638889472 OR conversation_id:1034007220135096320 OR conversation_id:781998832796200960 OR conversation_id:1019423872385454080 OR conversation_id:589390374143012864\",\n",
    "\"conversation_id:1415504184804261888 OR conversation_id:1030747586595106816 OR conversation_id:663248916092203010 OR conversation_id:635186714378526722 OR conversation_id:1609202384177070080 OR conversation_id:958688034572169218 OR conversation_id:1494051761694326787 OR conversation_id:1593585507564339203 OR conversation_id:488701944698253313 OR conversation_id:1142062643756318720 OR conversation_id:483511118733012992 OR conversation_id:1594143281050537986 OR conversation_id:1614608414440669184 OR conversation_id:983530482875936768 OR conversation_id:1609595624306970626 OR conversation_id:731893570324578304 OR conversation_id:1021773926337273857 OR conversation_id:978334518305320960 OR conversation_id:1144312015957180418 OR conversation_id:468739499061968896 OR conversation_id:1030461370645585920 OR conversation_id:1042014027994554368 OR conversation_id:1425916925863993356 OR conversation_id:849595040091574272 OR conversation_id:586431287776296960 OR conversation_id:1043584146608726016\",\n",
    "\"conversation_id:1488348857910104066 OR conversation_id:1076164981413040129 OR conversation_id:294960847372029952 OR conversation_id:1582798435383619586 OR conversation_id:557205913497772032 OR conversation_id:682235360726790144 OR conversation_id:1011292402462724096 OR conversation_id:905478360909963265 OR conversation_id:1108002680222433280 OR conversation_id:622398151576694786 OR conversation_id:1592428338080993280 OR conversation_id:807583978320527360 OR conversation_id:603480427622457344 OR conversation_id:1115288629755240449 OR conversation_id:1220462549197606914 OR conversation_id:688029834606473217 OR conversation_id:1600865103645093889 OR conversation_id:311226979905060864 OR conversation_id:1371006926876725249 OR conversation_id:439602814495764480 OR conversation_id:311277356096581632 OR conversation_id:1216826778939011083 OR conversation_id:113636391598034945 OR conversation_id:390219634290724864 OR conversation_id:846117735331450880 OR conversation_id:1322154969391374336\",\n",
    "\"conversation_id:1372517340055793666 OR conversation_id:313242004664492033 OR conversation_id:1164584267831271424 OR conversation_id:1029448433453686784 OR conversation_id:350811939372404737 OR conversation_id:1034135889566412800 OR conversation_id:1003057506329952256 OR conversation_id:1068519826224701444 OR conversation_id:1054857503622791168 OR conversation_id:1514349312959991809 OR conversation_id:1331636723181293569 OR conversation_id:514913797669388288 OR conversation_id:1036182399330205696 OR conversation_id:879403161810808833 OR conversation_id:431332532093984768 OR conversation_id:726076817098985472 OR conversation_id:639406294005350400 OR conversation_id:1052673776486367239 OR conversation_id:966133171782930432 OR conversation_id:1175295765482278912 OR conversation_id:684107516595335168 OR conversation_id:1611274677992960002 OR conversation_id:1094912124063793152 OR conversation_id:512324496414740480 OR conversation_id:1272705735776968704 OR conversation_id:611238876783448064\",\n",
    "\"conversation_id:1072891329607278593 OR conversation_id:1224195006845472768 OR conversation_id:1481222718649425920 OR conversation_id:1023653553645207552 OR conversation_id:822803316094726145 OR conversation_id:1131105439289094144 OR conversation_id:1226117273116663810 OR conversation_id:1202753930352058368 OR conversation_id:646741718902177792 OR conversation_id:983326646756311040 OR conversation_id:210023715331776512 OR conversation_id:1530927124051378177 OR conversation_id:166608432219164673 OR conversation_id:458944649609375744 OR conversation_id:445297172431794177 OR conversation_id:912812575661977600 OR conversation_id:1199666682731479043 OR conversation_id:1444602186177056775 OR conversation_id:307162268322394112 OR conversation_id:226416720133369856 OR conversation_id:1339607960524353546 OR conversation_id:1570615484223225857 OR conversation_id:1537042585612697601 OR conversation_id:1040187538177236992 OR conversation_id:963038404689711105 OR conversation_id:208647860718280705\"]"
   ],
   "metadata": {
    "collapsed": false
   }
  },
  {
   "cell_type": "code",
   "execution_count": 89,
   "outputs": [
    {
     "data": {
      "text/plain": "369"
     },
     "execution_count": 89,
     "metadata": {},
     "output_type": "execute_result"
    }
   ],
   "source": [
    "len(remaining)"
   ],
   "metadata": {
    "collapsed": false
   }
  },
  {
   "cell_type": "code",
   "execution_count": 91,
   "outputs": [],
   "source": [
    "import tweepy\n",
    "\n",
    "client = tweepy.Client(bearer_token=\"XXX\",\n",
    "                         wait_on_rate_limit=True, )"
   ],
   "metadata": {
    "collapsed": false
   }
  },
  {
   "cell_type": "code",
   "execution_count": 92,
   "outputs": [
    {
     "name": "stderr",
     "output_type": "stream",
     "text": [
      "queries:   0%|          | 1/369 [00:06<41:57,  6.84s/it]Rate limit exceeded. Sleeping for 895 seconds.\n",
      "queries:   4%|▍         | 14/369 [24:11<3:12:55, 32.61s/it] Rate limit exceeded. Sleeping for 352 seconds.\n",
      "queries:   5%|▍         | 17/369 [30:18<6:32:14, 66.86s/it]  Rate limit exceeded. Sleeping for 886 seconds.\n",
      "queries:   5%|▌         | 19/369 [45:30<21:56:10, 225.63s/it]Rate limit exceeded. Sleeping for 876 seconds.\n",
      "queries:  17%|█▋        | 62/369 [1:08:49<1:06:58, 13.09s/it]  Rate limit exceeded. Sleeping for 318 seconds.\n",
      "queries:  18%|█▊        | 67/369 [1:22:03<5:07:02, 61.00s/it]  Rate limit exceeded. Sleeping for 486 seconds.\n",
      "queries:  21%|██        | 76/369 [1:32:56<2:29:16, 30.57s/it]  Rate limit exceeded. Sleeping for 735 seconds.\n",
      "queries:  24%|██▍       | 90/369 [1:49:01<1:36:12, 20.69s/it]  Rate limit exceeded. Sleeping for 671 seconds.\n",
      "queries:  30%|██▉       | 110/369 [2:06:37<1:12:45, 16.85s/it] Rate limit exceeded. Sleeping for 517 seconds.\n",
      "queries:  31%|███       | 114/369 [2:16:14<4:52:50, 68.90s/it]  Rate limit exceeded. Sleeping for 841 seconds.\n",
      "queries:  33%|███▎      | 123/369 [2:32:22<2:00:45, 29.45s/it]  Rate limit exceeded. Sleeping for 774 seconds.\n",
      "queries:  34%|███▍      | 125/369 [2:45:43<12:27:45, 183.88s/it]Rate limit exceeded. Sleeping for 875 seconds.\n",
      "queries:  36%|███▌      | 133/369 [3:01:25<2:29:05, 37.91s/it]  Rate limit exceeded. Sleeping for 834 seconds.\n",
      "queries:  44%|████▍     | 164/369 [3:23:39<1:02:13, 18.21s/it]  Rate limit exceeded. Sleeping for 402 seconds.\n",
      "queries:  46%|████▋     | 171/369 [3:32:13<1:27:42, 26.58s/it] Rate limit exceeded. Sleeping for 790 seconds.\n",
      "queries:  51%|█████▏    | 190/369 [3:51:39<34:45, 11.65s/it]    Rate limit exceeded. Sleeping for 525 seconds.\n",
      "queries:  55%|█████▍    | 202/369 [4:02:11<33:18, 11.97s/it]   Rate limit exceeded. Sleeping for 794 seconds.\n",
      "queries:  57%|█████▋    | 209/369 [4:17:33<1:52:21, 42.13s/it]  Rate limit exceeded. Sleeping for 774 seconds.\n",
      "queries:  57%|█████▋    | 210/369 [4:30:32<11:37:40, 263.27s/it]Rate limit exceeded. Sleeping for 896 seconds.\n",
      "queries:  59%|█████▊    | 216/369 [4:46:54<3:40:03, 86.30s/it]  Rate limit exceeded. Sleeping for 816 seconds.\n",
      "queries:  59%|█████▉    | 218/369 [5:00:43<9:05:46, 216.87s/it] Rate limit exceeded. Sleeping for 889 seconds.\n",
      "queries:  62%|██████▏   | 228/369 [5:17:50<1:14:16, 31.61s/it]  Rate limit exceeded. Sleeping for 763 seconds.\n",
      "queries:  63%|██████▎   | 231/369 [5:31:39<5:20:45, 139.46s/it] Rate limit exceeded. Sleeping for 835 seconds.\n",
      "queries:  64%|██████▍   | 236/369 [5:46:38<3:31:26, 95.39s/it]  Rate limit exceeded. Sleeping for 838 seconds.\n",
      "queries:  66%|██████▋   | 245/369 [6:01:45<54:40, 26.45s/it]    Rate limit exceeded. Sleeping for 833 seconds.\n",
      "queries:  67%|██████▋   | 248/369 [6:15:53<4:32:02, 134.90s/it]Rate limit exceeded. Sleeping for 887 seconds.\n",
      "queries:  68%|██████▊   | 252/369 [6:31:46<4:17:26, 132.02s/it] Rate limit exceeded. Sleeping for 836 seconds.\n",
      "queries:  69%|██████▉   | 254/369 [6:45:57<7:47:46, 244.05s/it] Rate limit exceeded. Sleeping for 887 seconds.\n",
      "queries:  69%|██████▉   | 255/369 [7:00:51<13:54:06, 439.00s/it]Rate limit exceeded. Sleeping for 895 seconds.\n",
      "queries:  69%|██████▉   | 256/369 [7:15:53<18:08:33, 578.00s/it]Rate limit exceeded. Sleeping for 893 seconds.\n",
      "queries:  70%|███████   | 259/369 [7:31:42<10:25:41, 341.29s/it]Rate limit exceeded. Sleeping for 846 seconds.\n",
      "queries:  72%|███████▏  | 264/369 [7:46:27<3:36:56, 123.96s/it] Rate limit exceeded. Sleeping for 862 seconds.\n",
      "queries:  72%|███████▏  | 266/369 [8:01:07<7:02:13, 245.95s/it] Rate limit exceeded. Sleeping for 884 seconds.\n",
      "queries:  76%|███████▌  | 280/369 [8:19:38<36:46, 24.79s/it]    "
     ]
    },
    {
     "name": "stdout",
     "output_type": "stream",
     "text": [
      "503 Service Unavailable\n",
      "Service Unavailable\n"
     ]
    },
    {
     "name": "stderr",
     "output_type": "stream",
     "text": [
      "queries:  81%|████████  | 299/369 [8:25:53<13:10, 11.29s/it]  Rate limit exceeded. Sleeping for 299 seconds.\n",
      "queries:  82%|████████▏ | 304/369 [8:31:28<30:59, 28.61s/it]   Rate limit exceeded. Sleeping for 864 seconds.\n",
      "queries:  86%|████████▌ | 317/369 [8:52:26<14:36, 16.85s/it]   Rate limit exceeded. Sleeping for 508 seconds.\n",
      "queries:  89%|████████▉ | 329/369 [9:06:30<27:40, 41.51s/it]   Rate limit exceeded. Sleeping for 565 seconds.\n",
      "queries:  98%|█████████▊| 360/369 [9:19:58<01:29,  9.96s/it]   Rate limit exceeded. Sleeping for 659 seconds.\n",
      "queries:  98%|█████████▊| 361/369 [9:31:03<27:30, 206.37s/it]"
     ]
    },
    {
     "name": "stdout",
     "output_type": "stream",
     "text": [
      "400 Bad Request\n",
      "There were errors processing your request: no viable alternative at input '<EOF>' (at position 889)\n"
     ]
    },
    {
     "name": "stderr",
     "output_type": "stream",
     "text": [
      "queries:  98%|█████████▊| 362/369 [9:32:03<18:57, 162.53s/it]"
     ]
    },
    {
     "name": "stdout",
     "output_type": "stream",
     "text": [
      "503 Service Unavailable\n",
      "Service Unavailable\n"
     ]
    },
    {
     "name": "stderr",
     "output_type": "stream",
     "text": [
      "queries:  98%|█████████▊| 363/369 [9:33:26<13:51, 138.64s/it]"
     ]
    },
    {
     "name": "stdout",
     "output_type": "stream",
     "text": [
      "503 Service Unavailable\n",
      "Service Unavailable\n"
     ]
    },
    {
     "name": "stderr",
     "output_type": "stream",
     "text": [
      "queries:  99%|█████████▊| 364/369 [9:35:56<11:49, 141.97s/it]"
     ]
    },
    {
     "name": "stdout",
     "output_type": "stream",
     "text": [
      "503 Service Unavailable\n",
      "Service Unavailable\n"
     ]
    },
    {
     "name": "stderr",
     "output_type": "stream",
     "text": [
      "queries:  99%|█████████▉| 365/369 [9:37:08<08:04, 121.15s/it]"
     ]
    },
    {
     "name": "stdout",
     "output_type": "stream",
     "text": [
      "503 Service Unavailable\n",
      "Service Unavailable\n"
     ]
    },
    {
     "name": "stderr",
     "output_type": "stream",
     "text": [
      "queries:  99%|█████████▉| 366/369 [9:38:30<05:27, 109.26s/it]"
     ]
    },
    {
     "name": "stdout",
     "output_type": "stream",
     "text": [
      "503 Service Unavailable\n",
      "Service Unavailable\n"
     ]
    },
    {
     "name": "stderr",
     "output_type": "stream",
     "text": [
      "queries:  99%|█████████▉| 367/369 [9:40:09<03:32, 106.14s/it]"
     ]
    },
    {
     "name": "stdout",
     "output_type": "stream",
     "text": [
      "503 Service Unavailable\n",
      "Service Unavailable\n"
     ]
    },
    {
     "name": "stderr",
     "output_type": "stream",
     "text": [
      "queries: 100%|█████████▉| 368/369 [10:03:09<08:08, 488.29s/it]"
     ]
    },
    {
     "name": "stdout",
     "output_type": "stream",
     "text": [
      "503 Service Unavailable\n",
      "Service Unavailable\n"
     ]
    },
    {
     "name": "stderr",
     "output_type": "stream",
     "text": [
      "queries: 100%|██████████| 369/369 [10:07:26<00:00, 98.77s/it] \n"
     ]
    }
   ],
   "source": [
    "out_path = os.path.join(DATA_PATH, f'italychurchtoo_nolang_convo.jsonl')\n",
    "errors = list()\n",
    "with open(out_path, 'a+') as f:\n",
    "    for query in tqdm(remaining, 'queries'):\n",
    "        done = False\n",
    "        next_token = None\n",
    "        while not done:\n",
    "            try:\n",
    "                res = client.search_all_tweets(query=query, next_token=next_token, max_results=500, start_time=start_date, end_time=None,\\\n",
    "                                               place_fields = ['id','full_name', 'country', 'geo', 'name', 'place_type'],\n",
    "                                             tweet_fields = ['id', 'created_at', 'geo', 'public_metrics', 'text', 'edit_history_tweet_ids', 'attachments', 'author_id',  'conversation_id', 'entities', 'in_reply_to_user_id', 'lang', 'possibly_sensitive', 'referenced_tweets', 'reply_settings', 'source', 'withheld'], # missing edit controls and  other fields that require user auth, 'context_annotations' requires <100 results\n",
    "                            media_fields=['url', 'alt_text','public_metrics', 'type', 'media_key', 'duration_ms'],  \\\n",
    "                            poll_fields=['id', 'options', 'duration_minutes', 'end_datetime', 'voting_status'],\n",
    "                                               since_id=None, sort_order=None, \\\n",
    "                            until_id=None, user_fields=['created_at', 'description', 'entities', 'id', 'location', 'name', 'pinned_tweet_id',\n",
    "                   'profile_image_url', 'protected', 'public_metrics', 'url', 'username', 'verified', 'withheld'])\n",
    "                for tweet in res.data:\n",
    "                    f.write(json.dumps(tweet.data, sort_keys=True)+'\\n')\n",
    "                next_token = res.meta.get('next_token', None)\n",
    "                if not next_token:\n",
    "                    done=True\n",
    "\n",
    "            except TweepyException as e:\n",
    "                print(e)\n",
    "                errors.append(query)\n",
    "                time.sleep(60)\n",
    "                done=True"
   ],
   "metadata": {
    "collapsed": false
   }
  },
  {
   "cell_type": "code",
   "execution_count": 105,
   "outputs": [],
   "source": [
    "remaining = errors[:]"
   ],
   "metadata": {
    "collapsed": false
   }
  },
  {
   "cell_type": "code",
   "execution_count": 106,
   "outputs": [
    {
     "name": "stderr",
     "output_type": "stream",
     "text": [
      "queries:   0%|          | 0/4 [00:00<?, ?it/s]"
     ]
    },
    {
     "name": "stdout",
     "output_type": "stream",
     "text": [
      "400 Bad Request\n",
      "There were errors processing your request: no viable alternative at input '<EOF>' (at position 889)\n"
     ]
    },
    {
     "name": "stderr",
     "output_type": "stream",
     "text": [
      "queries:  25%|██▌       | 1/4 [01:00<03:00, 60.23s/it]Rate limit exceeded. Sleeping for 97 seconds.\n",
      "Rate limit exceeded. Sleeping for 304 seconds.\n",
      "Rate limit exceeded. Sleeping for 213 seconds.\n",
      "Rate limit exceeded. Sleeping for 40 seconds.\n",
      "queries:  25%|██▌       | 1/4 [1:03:43<3:11:10, 3823.51s/it]\n"
     ]
    },
    {
     "ename": "KeyboardInterrupt",
     "evalue": "",
     "output_type": "error",
     "traceback": [
      "\u001B[1;31m---------------------------------------------------------------------------\u001B[0m",
      "\u001B[1;31mKeyboardInterrupt\u001B[0m                         Traceback (most recent call last)",
      "Cell \u001B[1;32mIn[106], line 9\u001B[0m\n\u001B[0;32m      7\u001B[0m \u001B[38;5;28;01mwhile\u001B[39;00m \u001B[38;5;129;01mnot\u001B[39;00m done:\n\u001B[0;32m      8\u001B[0m     \u001B[38;5;28;01mtry\u001B[39;00m:\n\u001B[1;32m----> 9\u001B[0m         res \u001B[38;5;241m=\u001B[39m \u001B[43mclient\u001B[49m\u001B[38;5;241;43m.\u001B[39;49m\u001B[43msearch_all_tweets\u001B[49m\u001B[43m(\u001B[49m\u001B[43mquery\u001B[49m\u001B[38;5;241;43m=\u001B[39;49m\u001B[43mquery\u001B[49m\u001B[43m,\u001B[49m\u001B[43m \u001B[49m\u001B[43mnext_token\u001B[49m\u001B[38;5;241;43m=\u001B[39;49m\u001B[43mnext_token\u001B[49m\u001B[43m,\u001B[49m\u001B[43m \u001B[49m\u001B[43mmax_results\u001B[49m\u001B[38;5;241;43m=\u001B[39;49m\u001B[38;5;241;43m500\u001B[39;49m\u001B[43m,\u001B[49m\u001B[43m \u001B[49m\u001B[43mstart_time\u001B[49m\u001B[38;5;241;43m=\u001B[39;49m\u001B[43mstart_date\u001B[49m\u001B[43m,\u001B[49m\u001B[43m \u001B[49m\u001B[43mend_time\u001B[49m\u001B[38;5;241;43m=\u001B[39;49m\u001B[38;5;28;43;01mNone\u001B[39;49;00m\u001B[43m,\u001B[49m\u001B[43m\\\u001B[49m\n\u001B[0;32m     10\u001B[0m \u001B[43m                                       \u001B[49m\u001B[43mplace_fields\u001B[49m\u001B[43m \u001B[49m\u001B[38;5;241;43m=\u001B[39;49m\u001B[43m \u001B[49m\u001B[43m[\u001B[49m\u001B[38;5;124;43m'\u001B[39;49m\u001B[38;5;124;43mid\u001B[39;49m\u001B[38;5;124;43m'\u001B[39;49m\u001B[43m,\u001B[49m\u001B[38;5;124;43m'\u001B[39;49m\u001B[38;5;124;43mfull_name\u001B[39;49m\u001B[38;5;124;43m'\u001B[39;49m\u001B[43m,\u001B[49m\u001B[43m \u001B[49m\u001B[38;5;124;43m'\u001B[39;49m\u001B[38;5;124;43mcountry\u001B[39;49m\u001B[38;5;124;43m'\u001B[39;49m\u001B[43m,\u001B[49m\u001B[43m \u001B[49m\u001B[38;5;124;43m'\u001B[39;49m\u001B[38;5;124;43mgeo\u001B[39;49m\u001B[38;5;124;43m'\u001B[39;49m\u001B[43m,\u001B[49m\u001B[43m \u001B[49m\u001B[38;5;124;43m'\u001B[39;49m\u001B[38;5;124;43mname\u001B[39;49m\u001B[38;5;124;43m'\u001B[39;49m\u001B[43m,\u001B[49m\u001B[43m \u001B[49m\u001B[38;5;124;43m'\u001B[39;49m\u001B[38;5;124;43mplace_type\u001B[39;49m\u001B[38;5;124;43m'\u001B[39;49m\u001B[43m]\u001B[49m\u001B[43m,\u001B[49m\n\u001B[0;32m     11\u001B[0m \u001B[43m                                     \u001B[49m\u001B[43mtweet_fields\u001B[49m\u001B[43m \u001B[49m\u001B[38;5;241;43m=\u001B[39;49m\u001B[43m \u001B[49m\u001B[43m[\u001B[49m\u001B[38;5;124;43m'\u001B[39;49m\u001B[38;5;124;43mid\u001B[39;49m\u001B[38;5;124;43m'\u001B[39;49m\u001B[43m,\u001B[49m\u001B[43m \u001B[49m\u001B[38;5;124;43m'\u001B[39;49m\u001B[38;5;124;43mcreated_at\u001B[39;49m\u001B[38;5;124;43m'\u001B[39;49m\u001B[43m,\u001B[49m\u001B[43m \u001B[49m\u001B[38;5;124;43m'\u001B[39;49m\u001B[38;5;124;43mgeo\u001B[39;49m\u001B[38;5;124;43m'\u001B[39;49m\u001B[43m,\u001B[49m\u001B[43m \u001B[49m\u001B[38;5;124;43m'\u001B[39;49m\u001B[38;5;124;43mpublic_metrics\u001B[39;49m\u001B[38;5;124;43m'\u001B[39;49m\u001B[43m,\u001B[49m\u001B[43m \u001B[49m\u001B[38;5;124;43m'\u001B[39;49m\u001B[38;5;124;43mtext\u001B[39;49m\u001B[38;5;124;43m'\u001B[39;49m\u001B[43m,\u001B[49m\u001B[43m \u001B[49m\u001B[38;5;124;43m'\u001B[39;49m\u001B[38;5;124;43medit_history_tweet_ids\u001B[39;49m\u001B[38;5;124;43m'\u001B[39;49m\u001B[43m,\u001B[49m\u001B[43m \u001B[49m\u001B[38;5;124;43m'\u001B[39;49m\u001B[38;5;124;43mattachments\u001B[39;49m\u001B[38;5;124;43m'\u001B[39;49m\u001B[43m,\u001B[49m\u001B[43m \u001B[49m\u001B[38;5;124;43m'\u001B[39;49m\u001B[38;5;124;43mauthor_id\u001B[39;49m\u001B[38;5;124;43m'\u001B[39;49m\u001B[43m,\u001B[49m\u001B[43m  \u001B[49m\u001B[38;5;124;43m'\u001B[39;49m\u001B[38;5;124;43mconversation_id\u001B[39;49m\u001B[38;5;124;43m'\u001B[39;49m\u001B[43m,\u001B[49m\u001B[43m \u001B[49m\u001B[38;5;124;43m'\u001B[39;49m\u001B[38;5;124;43mentities\u001B[39;49m\u001B[38;5;124;43m'\u001B[39;49m\u001B[43m,\u001B[49m\u001B[43m \u001B[49m\u001B[38;5;124;43m'\u001B[39;49m\u001B[38;5;124;43min_reply_to_user_id\u001B[39;49m\u001B[38;5;124;43m'\u001B[39;49m\u001B[43m,\u001B[49m\u001B[43m \u001B[49m\u001B[38;5;124;43m'\u001B[39;49m\u001B[38;5;124;43mlang\u001B[39;49m\u001B[38;5;124;43m'\u001B[39;49m\u001B[43m,\u001B[49m\u001B[43m \u001B[49m\u001B[38;5;124;43m'\u001B[39;49m\u001B[38;5;124;43mpossibly_sensitive\u001B[39;49m\u001B[38;5;124;43m'\u001B[39;49m\u001B[43m,\u001B[49m\u001B[43m \u001B[49m\u001B[38;5;124;43m'\u001B[39;49m\u001B[38;5;124;43mreferenced_tweets\u001B[39;49m\u001B[38;5;124;43m'\u001B[39;49m\u001B[43m,\u001B[49m\u001B[43m \u001B[49m\u001B[38;5;124;43m'\u001B[39;49m\u001B[38;5;124;43mreply_settings\u001B[39;49m\u001B[38;5;124;43m'\u001B[39;49m\u001B[43m,\u001B[49m\u001B[43m \u001B[49m\u001B[38;5;124;43m'\u001B[39;49m\u001B[38;5;124;43msource\u001B[39;49m\u001B[38;5;124;43m'\u001B[39;49m\u001B[43m,\u001B[49m\u001B[43m \u001B[49m\u001B[38;5;124;43m'\u001B[39;49m\u001B[38;5;124;43mwithheld\u001B[39;49m\u001B[38;5;124;43m'\u001B[39;49m\u001B[43m]\u001B[49m\u001B[43m,\u001B[49m\u001B[43m \u001B[49m\u001B[38;5;66;43;03m# missing edit controls and  other fields that require user auth, 'context_annotations' requires <100 results\u001B[39;49;00m\n\u001B[0;32m     12\u001B[0m \u001B[43m                    \u001B[49m\u001B[43mmedia_fields\u001B[49m\u001B[38;5;241;43m=\u001B[39;49m\u001B[43m[\u001B[49m\u001B[38;5;124;43m'\u001B[39;49m\u001B[38;5;124;43murl\u001B[39;49m\u001B[38;5;124;43m'\u001B[39;49m\u001B[43m,\u001B[49m\u001B[43m \u001B[49m\u001B[38;5;124;43m'\u001B[39;49m\u001B[38;5;124;43malt_text\u001B[39;49m\u001B[38;5;124;43m'\u001B[39;49m\u001B[43m,\u001B[49m\u001B[38;5;124;43m'\u001B[39;49m\u001B[38;5;124;43mpublic_metrics\u001B[39;49m\u001B[38;5;124;43m'\u001B[39;49m\u001B[43m,\u001B[49m\u001B[43m \u001B[49m\u001B[38;5;124;43m'\u001B[39;49m\u001B[38;5;124;43mtype\u001B[39;49m\u001B[38;5;124;43m'\u001B[39;49m\u001B[43m,\u001B[49m\u001B[43m \u001B[49m\u001B[38;5;124;43m'\u001B[39;49m\u001B[38;5;124;43mmedia_key\u001B[39;49m\u001B[38;5;124;43m'\u001B[39;49m\u001B[43m,\u001B[49m\u001B[43m \u001B[49m\u001B[38;5;124;43m'\u001B[39;49m\u001B[38;5;124;43mduration_ms\u001B[39;49m\u001B[38;5;124;43m'\u001B[39;49m\u001B[43m]\u001B[49m\u001B[43m,\u001B[49m\u001B[43m  \u001B[49m\u001B[43m\\\u001B[49m\n\u001B[0;32m     13\u001B[0m \u001B[43m                    \u001B[49m\u001B[43mpoll_fields\u001B[49m\u001B[38;5;241;43m=\u001B[39;49m\u001B[43m[\u001B[49m\u001B[38;5;124;43m'\u001B[39;49m\u001B[38;5;124;43mid\u001B[39;49m\u001B[38;5;124;43m'\u001B[39;49m\u001B[43m,\u001B[49m\u001B[43m \u001B[49m\u001B[38;5;124;43m'\u001B[39;49m\u001B[38;5;124;43moptions\u001B[39;49m\u001B[38;5;124;43m'\u001B[39;49m\u001B[43m,\u001B[49m\u001B[43m \u001B[49m\u001B[38;5;124;43m'\u001B[39;49m\u001B[38;5;124;43mduration_minutes\u001B[39;49m\u001B[38;5;124;43m'\u001B[39;49m\u001B[43m,\u001B[49m\u001B[43m \u001B[49m\u001B[38;5;124;43m'\u001B[39;49m\u001B[38;5;124;43mend_datetime\u001B[39;49m\u001B[38;5;124;43m'\u001B[39;49m\u001B[43m,\u001B[49m\u001B[43m \u001B[49m\u001B[38;5;124;43m'\u001B[39;49m\u001B[38;5;124;43mvoting_status\u001B[39;49m\u001B[38;5;124;43m'\u001B[39;49m\u001B[43m]\u001B[49m\u001B[43m,\u001B[49m\n\u001B[0;32m     14\u001B[0m \u001B[43m                                       \u001B[49m\u001B[43msince_id\u001B[49m\u001B[38;5;241;43m=\u001B[39;49m\u001B[38;5;28;43;01mNone\u001B[39;49;00m\u001B[43m,\u001B[49m\u001B[43m \u001B[49m\u001B[43msort_order\u001B[49m\u001B[38;5;241;43m=\u001B[39;49m\u001B[38;5;28;43;01mNone\u001B[39;49;00m\u001B[43m,\u001B[49m\u001B[43m \u001B[49m\u001B[43m\\\u001B[49m\n\u001B[0;32m     15\u001B[0m \u001B[43m                    \u001B[49m\u001B[43muntil_id\u001B[49m\u001B[38;5;241;43m=\u001B[39;49m\u001B[38;5;28;43;01mNone\u001B[39;49;00m\u001B[43m,\u001B[49m\u001B[43m \u001B[49m\u001B[43muser_fields\u001B[49m\u001B[38;5;241;43m=\u001B[39;49m\u001B[43m[\u001B[49m\u001B[38;5;124;43m'\u001B[39;49m\u001B[38;5;124;43mcreated_at\u001B[39;49m\u001B[38;5;124;43m'\u001B[39;49m\u001B[43m,\u001B[49m\u001B[43m \u001B[49m\u001B[38;5;124;43m'\u001B[39;49m\u001B[38;5;124;43mdescription\u001B[39;49m\u001B[38;5;124;43m'\u001B[39;49m\u001B[43m,\u001B[49m\u001B[43m \u001B[49m\u001B[38;5;124;43m'\u001B[39;49m\u001B[38;5;124;43mentities\u001B[39;49m\u001B[38;5;124;43m'\u001B[39;49m\u001B[43m,\u001B[49m\u001B[43m \u001B[49m\u001B[38;5;124;43m'\u001B[39;49m\u001B[38;5;124;43mid\u001B[39;49m\u001B[38;5;124;43m'\u001B[39;49m\u001B[43m,\u001B[49m\u001B[43m \u001B[49m\u001B[38;5;124;43m'\u001B[39;49m\u001B[38;5;124;43mlocation\u001B[39;49m\u001B[38;5;124;43m'\u001B[39;49m\u001B[43m,\u001B[49m\u001B[43m \u001B[49m\u001B[38;5;124;43m'\u001B[39;49m\u001B[38;5;124;43mname\u001B[39;49m\u001B[38;5;124;43m'\u001B[39;49m\u001B[43m,\u001B[49m\u001B[43m \u001B[49m\u001B[38;5;124;43m'\u001B[39;49m\u001B[38;5;124;43mpinned_tweet_id\u001B[39;49m\u001B[38;5;124;43m'\u001B[39;49m\u001B[43m,\u001B[49m\n\u001B[0;32m     16\u001B[0m \u001B[43m           \u001B[49m\u001B[38;5;124;43m'\u001B[39;49m\u001B[38;5;124;43mprofile_image_url\u001B[39;49m\u001B[38;5;124;43m'\u001B[39;49m\u001B[43m,\u001B[49m\u001B[43m \u001B[49m\u001B[38;5;124;43m'\u001B[39;49m\u001B[38;5;124;43mprotected\u001B[39;49m\u001B[38;5;124;43m'\u001B[39;49m\u001B[43m,\u001B[49m\u001B[43m \u001B[49m\u001B[38;5;124;43m'\u001B[39;49m\u001B[38;5;124;43mpublic_metrics\u001B[39;49m\u001B[38;5;124;43m'\u001B[39;49m\u001B[43m,\u001B[49m\u001B[43m \u001B[49m\u001B[38;5;124;43m'\u001B[39;49m\u001B[38;5;124;43murl\u001B[39;49m\u001B[38;5;124;43m'\u001B[39;49m\u001B[43m,\u001B[49m\u001B[43m \u001B[49m\u001B[38;5;124;43m'\u001B[39;49m\u001B[38;5;124;43musername\u001B[39;49m\u001B[38;5;124;43m'\u001B[39;49m\u001B[43m,\u001B[49m\u001B[43m \u001B[49m\u001B[38;5;124;43m'\u001B[39;49m\u001B[38;5;124;43mverified\u001B[39;49m\u001B[38;5;124;43m'\u001B[39;49m\u001B[43m,\u001B[49m\u001B[43m \u001B[49m\u001B[38;5;124;43m'\u001B[39;49m\u001B[38;5;124;43mwithheld\u001B[39;49m\u001B[38;5;124;43m'\u001B[39;49m\u001B[43m]\u001B[49m\u001B[43m)\u001B[49m\n\u001B[0;32m     17\u001B[0m         \u001B[38;5;28;01mfor\u001B[39;00m tweet \u001B[38;5;129;01min\u001B[39;00m res\u001B[38;5;241m.\u001B[39mdata:\n\u001B[0;32m     18\u001B[0m             f\u001B[38;5;241m.\u001B[39mwrite(json\u001B[38;5;241m.\u001B[39mdumps(tweet\u001B[38;5;241m.\u001B[39mdata, sort_keys\u001B[38;5;241m=\u001B[39m\u001B[38;5;28;01mTrue\u001B[39;00m)\u001B[38;5;241m+\u001B[39m\u001B[38;5;124m'\u001B[39m\u001B[38;5;130;01m\\n\u001B[39;00m\u001B[38;5;124m'\u001B[39m)\n",
      "File \u001B[1;32m~\\PycharmProjects\\twitter_polls\\venv\\lib\\site-packages\\tweepy\\client.py:1163\u001B[0m, in \u001B[0;36mClient.search_all_tweets\u001B[1;34m(self, query, **params)\u001B[0m\n\u001B[0;32m   1071\u001B[0m \u001B[38;5;250m\u001B[39m\u001B[38;5;124;03m\"\"\"search_all_tweets( \\\u001B[39;00m\n\u001B[0;32m   1072\u001B[0m \u001B[38;5;124;03m    query, *, end_time=None, expansions=None, max_results=None, \\\u001B[39;00m\n\u001B[0;32m   1073\u001B[0m \u001B[38;5;124;03m    media_fields=None, next_token=None, place_fields=None, \\\u001B[39;00m\n\u001B[1;32m   (...)\u001B[0m\n\u001B[0;32m   1160\u001B[0m \u001B[38;5;124;03m.. _pagination: https://developer.twitter.com/en/docs/twitter-api/tweets/search/integrate/paginate\u001B[39;00m\n\u001B[0;32m   1161\u001B[0m \u001B[38;5;124;03m\"\"\"\u001B[39;00m\n\u001B[0;32m   1162\u001B[0m params[\u001B[38;5;124m\"\u001B[39m\u001B[38;5;124mquery\u001B[39m\u001B[38;5;124m\"\u001B[39m] \u001B[38;5;241m=\u001B[39m query\n\u001B[1;32m-> 1163\u001B[0m \u001B[38;5;28;01mreturn\u001B[39;00m \u001B[38;5;28;43mself\u001B[39;49m\u001B[38;5;241;43m.\u001B[39;49m\u001B[43m_make_request\u001B[49m\u001B[43m(\u001B[49m\n\u001B[0;32m   1164\u001B[0m \u001B[43m    \u001B[49m\u001B[38;5;124;43m\"\u001B[39;49m\u001B[38;5;124;43mGET\u001B[39;49m\u001B[38;5;124;43m\"\u001B[39;49m\u001B[43m,\u001B[49m\u001B[43m \u001B[49m\u001B[38;5;124;43m\"\u001B[39;49m\u001B[38;5;124;43m/2/tweets/search/all\u001B[39;49m\u001B[38;5;124;43m\"\u001B[39;49m\u001B[43m,\u001B[49m\u001B[43m \u001B[49m\u001B[43mparams\u001B[49m\u001B[38;5;241;43m=\u001B[39;49m\u001B[43mparams\u001B[49m\u001B[43m,\u001B[49m\n\u001B[0;32m   1165\u001B[0m \u001B[43m    \u001B[49m\u001B[43mendpoint_parameters\u001B[49m\u001B[38;5;241;43m=\u001B[39;49m\u001B[43m(\u001B[49m\n\u001B[0;32m   1166\u001B[0m \u001B[43m        \u001B[49m\u001B[38;5;124;43m\"\u001B[39;49m\u001B[38;5;124;43mend_time\u001B[39;49m\u001B[38;5;124;43m\"\u001B[39;49m\u001B[43m,\u001B[49m\u001B[43m \u001B[49m\u001B[38;5;124;43m\"\u001B[39;49m\u001B[38;5;124;43mexpansions\u001B[39;49m\u001B[38;5;124;43m\"\u001B[39;49m\u001B[43m,\u001B[49m\u001B[43m \u001B[49m\u001B[38;5;124;43m\"\u001B[39;49m\u001B[38;5;124;43mmax_results\u001B[39;49m\u001B[38;5;124;43m\"\u001B[39;49m\u001B[43m,\u001B[49m\u001B[43m \u001B[49m\u001B[38;5;124;43m\"\u001B[39;49m\u001B[38;5;124;43mmedia.fields\u001B[39;49m\u001B[38;5;124;43m\"\u001B[39;49m\u001B[43m,\u001B[49m\n\u001B[0;32m   1167\u001B[0m \u001B[43m        \u001B[49m\u001B[38;5;124;43m\"\u001B[39;49m\u001B[38;5;124;43mnext_token\u001B[39;49m\u001B[38;5;124;43m\"\u001B[39;49m\u001B[43m,\u001B[49m\u001B[43m \u001B[49m\u001B[38;5;124;43m\"\u001B[39;49m\u001B[38;5;124;43mplace.fields\u001B[39;49m\u001B[38;5;124;43m\"\u001B[39;49m\u001B[43m,\u001B[49m\u001B[43m \u001B[49m\u001B[38;5;124;43m\"\u001B[39;49m\u001B[38;5;124;43mpoll.fields\u001B[39;49m\u001B[38;5;124;43m\"\u001B[39;49m\u001B[43m,\u001B[49m\u001B[43m \u001B[49m\u001B[38;5;124;43m\"\u001B[39;49m\u001B[38;5;124;43mquery\u001B[39;49m\u001B[38;5;124;43m\"\u001B[39;49m\u001B[43m,\u001B[49m\n\u001B[0;32m   1168\u001B[0m \u001B[43m        \u001B[49m\u001B[38;5;124;43m\"\u001B[39;49m\u001B[38;5;124;43msince_id\u001B[39;49m\u001B[38;5;124;43m\"\u001B[39;49m\u001B[43m,\u001B[49m\u001B[43m \u001B[49m\u001B[38;5;124;43m\"\u001B[39;49m\u001B[38;5;124;43msort_order\u001B[39;49m\u001B[38;5;124;43m\"\u001B[39;49m\u001B[43m,\u001B[49m\u001B[43m \u001B[49m\u001B[38;5;124;43m\"\u001B[39;49m\u001B[38;5;124;43mstart_time\u001B[39;49m\u001B[38;5;124;43m\"\u001B[39;49m\u001B[43m,\u001B[49m\u001B[43m \u001B[49m\u001B[38;5;124;43m\"\u001B[39;49m\u001B[38;5;124;43mtweet.fields\u001B[39;49m\u001B[38;5;124;43m\"\u001B[39;49m\u001B[43m,\u001B[49m\n\u001B[0;32m   1169\u001B[0m \u001B[43m        \u001B[49m\u001B[38;5;124;43m\"\u001B[39;49m\u001B[38;5;124;43muntil_id\u001B[39;49m\u001B[38;5;124;43m\"\u001B[39;49m\u001B[43m,\u001B[49m\u001B[43m \u001B[49m\u001B[38;5;124;43m\"\u001B[39;49m\u001B[38;5;124;43muser.fields\u001B[39;49m\u001B[38;5;124;43m\"\u001B[39;49m\n\u001B[0;32m   1170\u001B[0m \u001B[43m    \u001B[49m\u001B[43m)\u001B[49m\u001B[43m,\u001B[49m\u001B[43m \u001B[49m\u001B[43mdata_type\u001B[49m\u001B[38;5;241;43m=\u001B[39;49m\u001B[43mTweet\u001B[49m\n\u001B[0;32m   1171\u001B[0m \u001B[43m\u001B[49m\u001B[43m)\u001B[49m\n",
      "File \u001B[1;32m~\\PycharmProjects\\twitter_polls\\venv\\lib\\site-packages\\tweepy\\client.py:129\u001B[0m, in \u001B[0;36mBaseClient._make_request\u001B[1;34m(self, method, route, params, endpoint_parameters, json, data_type, user_auth)\u001B[0m\n\u001B[0;32m    123\u001B[0m \u001B[38;5;28;01mdef\u001B[39;00m \u001B[38;5;21m_make_request\u001B[39m(\n\u001B[0;32m    124\u001B[0m     \u001B[38;5;28mself\u001B[39m, method, route, params\u001B[38;5;241m=\u001B[39m{}, endpoint_parameters\u001B[38;5;241m=\u001B[39m(), json\u001B[38;5;241m=\u001B[39m\u001B[38;5;28;01mNone\u001B[39;00m,\n\u001B[0;32m    125\u001B[0m     data_type\u001B[38;5;241m=\u001B[39m\u001B[38;5;28;01mNone\u001B[39;00m, user_auth\u001B[38;5;241m=\u001B[39m\u001B[38;5;28;01mFalse\u001B[39;00m\n\u001B[0;32m    126\u001B[0m ):\n\u001B[0;32m    127\u001B[0m     request_params \u001B[38;5;241m=\u001B[39m \u001B[38;5;28mself\u001B[39m\u001B[38;5;241m.\u001B[39m_process_params(params, endpoint_parameters)\n\u001B[1;32m--> 129\u001B[0m     response \u001B[38;5;241m=\u001B[39m \u001B[38;5;28;43mself\u001B[39;49m\u001B[38;5;241;43m.\u001B[39;49m\u001B[43mrequest\u001B[49m\u001B[43m(\u001B[49m\u001B[43mmethod\u001B[49m\u001B[43m,\u001B[49m\u001B[43m \u001B[49m\u001B[43mroute\u001B[49m\u001B[43m,\u001B[49m\u001B[43m \u001B[49m\u001B[43mparams\u001B[49m\u001B[38;5;241;43m=\u001B[39;49m\u001B[43mrequest_params\u001B[49m\u001B[43m,\u001B[49m\n\u001B[0;32m    130\u001B[0m \u001B[43m                            \u001B[49m\u001B[43mjson\u001B[49m\u001B[38;5;241;43m=\u001B[39;49m\u001B[43mjson\u001B[49m\u001B[43m,\u001B[49m\u001B[43m \u001B[49m\u001B[43muser_auth\u001B[49m\u001B[38;5;241;43m=\u001B[39;49m\u001B[43muser_auth\u001B[49m\u001B[43m)\u001B[49m\n\u001B[0;32m    132\u001B[0m     \u001B[38;5;28;01mif\u001B[39;00m \u001B[38;5;28mself\u001B[39m\u001B[38;5;241m.\u001B[39mreturn_type \u001B[38;5;129;01mis\u001B[39;00m requests\u001B[38;5;241m.\u001B[39mResponse:\n\u001B[0;32m    133\u001B[0m         \u001B[38;5;28;01mreturn\u001B[39;00m response\n",
      "File \u001B[1;32m~\\PycharmProjects\\twitter_polls\\venv\\lib\\site-packages\\tweepy\\client.py:84\u001B[0m, in \u001B[0;36mBaseClient.request\u001B[1;34m(self, method, route, params, json, user_auth)\u001B[0m\n\u001B[0;32m     75\u001B[0m     headers[\u001B[38;5;124m\"\u001B[39m\u001B[38;5;124mAuthorization\u001B[39m\u001B[38;5;124m\"\u001B[39m] \u001B[38;5;241m=\u001B[39m \u001B[38;5;124mf\u001B[39m\u001B[38;5;124m\"\u001B[39m\u001B[38;5;124mBearer \u001B[39m\u001B[38;5;132;01m{\u001B[39;00m\u001B[38;5;28mself\u001B[39m\u001B[38;5;241m.\u001B[39mbearer_token\u001B[38;5;132;01m}\u001B[39;00m\u001B[38;5;124m\"\u001B[39m\n\u001B[0;32m     77\u001B[0m log\u001B[38;5;241m.\u001B[39mdebug(\n\u001B[0;32m     78\u001B[0m     \u001B[38;5;124mf\u001B[39m\u001B[38;5;124m\"\u001B[39m\u001B[38;5;124mMaking API request: \u001B[39m\u001B[38;5;132;01m{\u001B[39;00mmethod\u001B[38;5;132;01m}\u001B[39;00m\u001B[38;5;124m \u001B[39m\u001B[38;5;132;01m{\u001B[39;00mhost\u001B[38;5;250m \u001B[39m\u001B[38;5;241m+\u001B[39m\u001B[38;5;250m \u001B[39mroute\u001B[38;5;132;01m}\u001B[39;00m\u001B[38;5;130;01m\\n\u001B[39;00m\u001B[38;5;124m\"\u001B[39m\n\u001B[0;32m     79\u001B[0m     \u001B[38;5;124mf\u001B[39m\u001B[38;5;124m\"\u001B[39m\u001B[38;5;124mParameters: \u001B[39m\u001B[38;5;132;01m{\u001B[39;00mparams\u001B[38;5;132;01m}\u001B[39;00m\u001B[38;5;130;01m\\n\u001B[39;00m\u001B[38;5;124m\"\u001B[39m\n\u001B[0;32m     80\u001B[0m     \u001B[38;5;124mf\u001B[39m\u001B[38;5;124m\"\u001B[39m\u001B[38;5;124mHeaders: \u001B[39m\u001B[38;5;132;01m{\u001B[39;00mheaders\u001B[38;5;132;01m}\u001B[39;00m\u001B[38;5;130;01m\\n\u001B[39;00m\u001B[38;5;124m\"\u001B[39m\n\u001B[0;32m     81\u001B[0m     \u001B[38;5;124mf\u001B[39m\u001B[38;5;124m\"\u001B[39m\u001B[38;5;124mBody: \u001B[39m\u001B[38;5;132;01m{\u001B[39;00mjson\u001B[38;5;132;01m}\u001B[39;00m\u001B[38;5;124m\"\u001B[39m\n\u001B[0;32m     82\u001B[0m )\n\u001B[1;32m---> 84\u001B[0m \u001B[38;5;28;01mwith\u001B[39;00m \u001B[38;5;28;43mself\u001B[39;49m\u001B[38;5;241;43m.\u001B[39;49m\u001B[43msession\u001B[49m\u001B[38;5;241;43m.\u001B[39;49m\u001B[43mrequest\u001B[49m\u001B[43m(\u001B[49m\n\u001B[0;32m     85\u001B[0m \u001B[43m    \u001B[49m\u001B[43mmethod\u001B[49m\u001B[43m,\u001B[49m\u001B[43m \u001B[49m\u001B[43mhost\u001B[49m\u001B[43m \u001B[49m\u001B[38;5;241;43m+\u001B[39;49m\u001B[43m \u001B[49m\u001B[43mroute\u001B[49m\u001B[43m,\u001B[49m\u001B[43m \u001B[49m\u001B[43mparams\u001B[49m\u001B[38;5;241;43m=\u001B[39;49m\u001B[43mparams\u001B[49m\u001B[43m,\u001B[49m\u001B[43m \u001B[49m\u001B[43mjson\u001B[49m\u001B[38;5;241;43m=\u001B[39;49m\u001B[43mjson\u001B[49m\u001B[43m,\u001B[49m\u001B[43m \u001B[49m\u001B[43mheaders\u001B[49m\u001B[38;5;241;43m=\u001B[39;49m\u001B[43mheaders\u001B[49m\u001B[43m,\u001B[49m\n\u001B[0;32m     86\u001B[0m \u001B[43m    \u001B[49m\u001B[43mauth\u001B[49m\u001B[38;5;241;43m=\u001B[39;49m\u001B[43mauth\u001B[49m\n\u001B[0;32m     87\u001B[0m \u001B[43m\u001B[49m\u001B[43m)\u001B[49m \u001B[38;5;28;01mas\u001B[39;00m response:\n\u001B[0;32m     88\u001B[0m     log\u001B[38;5;241m.\u001B[39mdebug(\n\u001B[0;32m     89\u001B[0m         \u001B[38;5;124m\"\u001B[39m\u001B[38;5;124mReceived API response: \u001B[39m\u001B[38;5;124m\"\u001B[39m\n\u001B[0;32m     90\u001B[0m         \u001B[38;5;124mf\u001B[39m\u001B[38;5;124m\"\u001B[39m\u001B[38;5;132;01m{\u001B[39;00mresponse\u001B[38;5;241m.\u001B[39mstatus_code\u001B[38;5;132;01m}\u001B[39;00m\u001B[38;5;124m \u001B[39m\u001B[38;5;132;01m{\u001B[39;00mresponse\u001B[38;5;241m.\u001B[39mreason\u001B[38;5;132;01m}\u001B[39;00m\u001B[38;5;130;01m\\n\u001B[39;00m\u001B[38;5;124m\"\u001B[39m\n\u001B[0;32m     91\u001B[0m         \u001B[38;5;124mf\u001B[39m\u001B[38;5;124m\"\u001B[39m\u001B[38;5;124mHeaders: \u001B[39m\u001B[38;5;132;01m{\u001B[39;00mresponse\u001B[38;5;241m.\u001B[39mheaders\u001B[38;5;132;01m}\u001B[39;00m\u001B[38;5;130;01m\\n\u001B[39;00m\u001B[38;5;124m\"\u001B[39m\n\u001B[0;32m     92\u001B[0m         \u001B[38;5;124mf\u001B[39m\u001B[38;5;124m\"\u001B[39m\u001B[38;5;124mContent: \u001B[39m\u001B[38;5;132;01m{\u001B[39;00mresponse\u001B[38;5;241m.\u001B[39mcontent\u001B[38;5;132;01m}\u001B[39;00m\u001B[38;5;124m\"\u001B[39m\n\u001B[0;32m     93\u001B[0m     )\n\u001B[0;32m     95\u001B[0m     \u001B[38;5;28;01mif\u001B[39;00m response\u001B[38;5;241m.\u001B[39mstatus_code \u001B[38;5;241m==\u001B[39m \u001B[38;5;241m400\u001B[39m:\n",
      "File \u001B[1;32m~\\PycharmProjects\\twitter_polls\\venv\\lib\\site-packages\\requests\\sessions.py:587\u001B[0m, in \u001B[0;36mSession.request\u001B[1;34m(self, method, url, params, data, headers, cookies, files, auth, timeout, allow_redirects, proxies, hooks, stream, verify, cert, json)\u001B[0m\n\u001B[0;32m    582\u001B[0m send_kwargs \u001B[38;5;241m=\u001B[39m {\n\u001B[0;32m    583\u001B[0m     \u001B[38;5;124m\"\u001B[39m\u001B[38;5;124mtimeout\u001B[39m\u001B[38;5;124m\"\u001B[39m: timeout,\n\u001B[0;32m    584\u001B[0m     \u001B[38;5;124m\"\u001B[39m\u001B[38;5;124mallow_redirects\u001B[39m\u001B[38;5;124m\"\u001B[39m: allow_redirects,\n\u001B[0;32m    585\u001B[0m }\n\u001B[0;32m    586\u001B[0m send_kwargs\u001B[38;5;241m.\u001B[39mupdate(settings)\n\u001B[1;32m--> 587\u001B[0m resp \u001B[38;5;241m=\u001B[39m \u001B[38;5;28mself\u001B[39m\u001B[38;5;241m.\u001B[39msend(prep, \u001B[38;5;241m*\u001B[39m\u001B[38;5;241m*\u001B[39msend_kwargs)\n\u001B[0;32m    589\u001B[0m \u001B[38;5;28;01mreturn\u001B[39;00m resp\n",
      "File \u001B[1;32m~\\PycharmProjects\\twitter_polls\\venv\\lib\\site-packages\\requests\\sessions.py:701\u001B[0m, in \u001B[0;36mSession.send\u001B[1;34m(self, request, **kwargs)\u001B[0m\n\u001B[0;32m    698\u001B[0m start \u001B[38;5;241m=\u001B[39m preferred_clock()\n\u001B[0;32m    700\u001B[0m \u001B[38;5;66;03m# Send the request\u001B[39;00m\n\u001B[1;32m--> 701\u001B[0m r \u001B[38;5;241m=\u001B[39m adapter\u001B[38;5;241m.\u001B[39msend(request, \u001B[38;5;241m*\u001B[39m\u001B[38;5;241m*\u001B[39mkwargs)\n\u001B[0;32m    703\u001B[0m \u001B[38;5;66;03m# Total elapsed time of the request (approximately)\u001B[39;00m\n\u001B[0;32m    704\u001B[0m elapsed \u001B[38;5;241m=\u001B[39m preferred_clock() \u001B[38;5;241m-\u001B[39m start\n",
      "File \u001B[1;32m~\\PycharmProjects\\twitter_polls\\venv\\lib\\site-packages\\requests\\adapters.py:489\u001B[0m, in \u001B[0;36mHTTPAdapter.send\u001B[1;34m(self, request, stream, timeout, verify, cert, proxies)\u001B[0m\n\u001B[0;32m    487\u001B[0m \u001B[38;5;28;01mtry\u001B[39;00m:\n\u001B[0;32m    488\u001B[0m     \u001B[38;5;28;01mif\u001B[39;00m \u001B[38;5;129;01mnot\u001B[39;00m chunked:\n\u001B[1;32m--> 489\u001B[0m         resp \u001B[38;5;241m=\u001B[39m \u001B[43mconn\u001B[49m\u001B[38;5;241;43m.\u001B[39;49m\u001B[43murlopen\u001B[49m\u001B[43m(\u001B[49m\n\u001B[0;32m    490\u001B[0m \u001B[43m            \u001B[49m\u001B[43mmethod\u001B[49m\u001B[38;5;241;43m=\u001B[39;49m\u001B[43mrequest\u001B[49m\u001B[38;5;241;43m.\u001B[39;49m\u001B[43mmethod\u001B[49m\u001B[43m,\u001B[49m\n\u001B[0;32m    491\u001B[0m \u001B[43m            \u001B[49m\u001B[43murl\u001B[49m\u001B[38;5;241;43m=\u001B[39;49m\u001B[43murl\u001B[49m\u001B[43m,\u001B[49m\n\u001B[0;32m    492\u001B[0m \u001B[43m            \u001B[49m\u001B[43mbody\u001B[49m\u001B[38;5;241;43m=\u001B[39;49m\u001B[43mrequest\u001B[49m\u001B[38;5;241;43m.\u001B[39;49m\u001B[43mbody\u001B[49m\u001B[43m,\u001B[49m\n\u001B[0;32m    493\u001B[0m \u001B[43m            \u001B[49m\u001B[43mheaders\u001B[49m\u001B[38;5;241;43m=\u001B[39;49m\u001B[43mrequest\u001B[49m\u001B[38;5;241;43m.\u001B[39;49m\u001B[43mheaders\u001B[49m\u001B[43m,\u001B[49m\n\u001B[0;32m    494\u001B[0m \u001B[43m            \u001B[49m\u001B[43mredirect\u001B[49m\u001B[38;5;241;43m=\u001B[39;49m\u001B[38;5;28;43;01mFalse\u001B[39;49;00m\u001B[43m,\u001B[49m\n\u001B[0;32m    495\u001B[0m \u001B[43m            \u001B[49m\u001B[43massert_same_host\u001B[49m\u001B[38;5;241;43m=\u001B[39;49m\u001B[38;5;28;43;01mFalse\u001B[39;49;00m\u001B[43m,\u001B[49m\n\u001B[0;32m    496\u001B[0m \u001B[43m            \u001B[49m\u001B[43mpreload_content\u001B[49m\u001B[38;5;241;43m=\u001B[39;49m\u001B[38;5;28;43;01mFalse\u001B[39;49;00m\u001B[43m,\u001B[49m\n\u001B[0;32m    497\u001B[0m \u001B[43m            \u001B[49m\u001B[43mdecode_content\u001B[49m\u001B[38;5;241;43m=\u001B[39;49m\u001B[38;5;28;43;01mFalse\u001B[39;49;00m\u001B[43m,\u001B[49m\n\u001B[0;32m    498\u001B[0m \u001B[43m            \u001B[49m\u001B[43mretries\u001B[49m\u001B[38;5;241;43m=\u001B[39;49m\u001B[38;5;28;43mself\u001B[39;49m\u001B[38;5;241;43m.\u001B[39;49m\u001B[43mmax_retries\u001B[49m\u001B[43m,\u001B[49m\n\u001B[0;32m    499\u001B[0m \u001B[43m            \u001B[49m\u001B[43mtimeout\u001B[49m\u001B[38;5;241;43m=\u001B[39;49m\u001B[43mtimeout\u001B[49m\u001B[43m,\u001B[49m\n\u001B[0;32m    500\u001B[0m \u001B[43m        \u001B[49m\u001B[43m)\u001B[49m\n\u001B[0;32m    502\u001B[0m     \u001B[38;5;66;03m# Send the request.\u001B[39;00m\n\u001B[0;32m    503\u001B[0m     \u001B[38;5;28;01melse\u001B[39;00m:\n\u001B[0;32m    504\u001B[0m         \u001B[38;5;28;01mif\u001B[39;00m \u001B[38;5;28mhasattr\u001B[39m(conn, \u001B[38;5;124m\"\u001B[39m\u001B[38;5;124mproxy_pool\u001B[39m\u001B[38;5;124m\"\u001B[39m):\n",
      "File \u001B[1;32m~\\PycharmProjects\\twitter_polls\\venv\\lib\\site-packages\\urllib3\\connectionpool.py:703\u001B[0m, in \u001B[0;36mHTTPConnectionPool.urlopen\u001B[1;34m(self, method, url, body, headers, retries, redirect, assert_same_host, timeout, pool_timeout, release_conn, chunked, body_pos, **response_kw)\u001B[0m\n\u001B[0;32m    700\u001B[0m     \u001B[38;5;28mself\u001B[39m\u001B[38;5;241m.\u001B[39m_prepare_proxy(conn)\n\u001B[0;32m    702\u001B[0m \u001B[38;5;66;03m# Make the request on the httplib connection object.\u001B[39;00m\n\u001B[1;32m--> 703\u001B[0m httplib_response \u001B[38;5;241m=\u001B[39m \u001B[38;5;28;43mself\u001B[39;49m\u001B[38;5;241;43m.\u001B[39;49m\u001B[43m_make_request\u001B[49m\u001B[43m(\u001B[49m\n\u001B[0;32m    704\u001B[0m \u001B[43m    \u001B[49m\u001B[43mconn\u001B[49m\u001B[43m,\u001B[49m\n\u001B[0;32m    705\u001B[0m \u001B[43m    \u001B[49m\u001B[43mmethod\u001B[49m\u001B[43m,\u001B[49m\n\u001B[0;32m    706\u001B[0m \u001B[43m    \u001B[49m\u001B[43murl\u001B[49m\u001B[43m,\u001B[49m\n\u001B[0;32m    707\u001B[0m \u001B[43m    \u001B[49m\u001B[43mtimeout\u001B[49m\u001B[38;5;241;43m=\u001B[39;49m\u001B[43mtimeout_obj\u001B[49m\u001B[43m,\u001B[49m\n\u001B[0;32m    708\u001B[0m \u001B[43m    \u001B[49m\u001B[43mbody\u001B[49m\u001B[38;5;241;43m=\u001B[39;49m\u001B[43mbody\u001B[49m\u001B[43m,\u001B[49m\n\u001B[0;32m    709\u001B[0m \u001B[43m    \u001B[49m\u001B[43mheaders\u001B[49m\u001B[38;5;241;43m=\u001B[39;49m\u001B[43mheaders\u001B[49m\u001B[43m,\u001B[49m\n\u001B[0;32m    710\u001B[0m \u001B[43m    \u001B[49m\u001B[43mchunked\u001B[49m\u001B[38;5;241;43m=\u001B[39;49m\u001B[43mchunked\u001B[49m\u001B[43m,\u001B[49m\n\u001B[0;32m    711\u001B[0m \u001B[43m\u001B[49m\u001B[43m)\u001B[49m\n\u001B[0;32m    713\u001B[0m \u001B[38;5;66;03m# If we're going to release the connection in ``finally:``, then\u001B[39;00m\n\u001B[0;32m    714\u001B[0m \u001B[38;5;66;03m# the response doesn't need to know about the connection. Otherwise\u001B[39;00m\n\u001B[0;32m    715\u001B[0m \u001B[38;5;66;03m# it will also try to release it and we'll have a double-release\u001B[39;00m\n\u001B[0;32m    716\u001B[0m \u001B[38;5;66;03m# mess.\u001B[39;00m\n\u001B[0;32m    717\u001B[0m response_conn \u001B[38;5;241m=\u001B[39m conn \u001B[38;5;28;01mif\u001B[39;00m \u001B[38;5;129;01mnot\u001B[39;00m release_conn \u001B[38;5;28;01melse\u001B[39;00m \u001B[38;5;28;01mNone\u001B[39;00m\n",
      "File \u001B[1;32m~\\PycharmProjects\\twitter_polls\\venv\\lib\\site-packages\\urllib3\\connectionpool.py:449\u001B[0m, in \u001B[0;36mHTTPConnectionPool._make_request\u001B[1;34m(self, conn, method, url, timeout, chunked, **httplib_request_kw)\u001B[0m\n\u001B[0;32m    444\u001B[0m             httplib_response \u001B[38;5;241m=\u001B[39m conn\u001B[38;5;241m.\u001B[39mgetresponse()\n\u001B[0;32m    445\u001B[0m         \u001B[38;5;28;01mexcept\u001B[39;00m \u001B[38;5;167;01mBaseException\u001B[39;00m \u001B[38;5;28;01mas\u001B[39;00m e:\n\u001B[0;32m    446\u001B[0m             \u001B[38;5;66;03m# Remove the TypeError from the exception chain in\u001B[39;00m\n\u001B[0;32m    447\u001B[0m             \u001B[38;5;66;03m# Python 3 (including for exceptions like SystemExit).\u001B[39;00m\n\u001B[0;32m    448\u001B[0m             \u001B[38;5;66;03m# Otherwise it looks like a bug in the code.\u001B[39;00m\n\u001B[1;32m--> 449\u001B[0m             \u001B[43msix\u001B[49m\u001B[38;5;241;43m.\u001B[39;49m\u001B[43mraise_from\u001B[49m\u001B[43m(\u001B[49m\u001B[43me\u001B[49m\u001B[43m,\u001B[49m\u001B[43m \u001B[49m\u001B[38;5;28;43;01mNone\u001B[39;49;00m\u001B[43m)\u001B[49m\n\u001B[0;32m    450\u001B[0m \u001B[38;5;28;01mexcept\u001B[39;00m (SocketTimeout, BaseSSLError, SocketError) \u001B[38;5;28;01mas\u001B[39;00m e:\n\u001B[0;32m    451\u001B[0m     \u001B[38;5;28mself\u001B[39m\u001B[38;5;241m.\u001B[39m_raise_timeout(err\u001B[38;5;241m=\u001B[39me, url\u001B[38;5;241m=\u001B[39murl, timeout_value\u001B[38;5;241m=\u001B[39mread_timeout)\n",
      "File \u001B[1;32m<string>:3\u001B[0m, in \u001B[0;36mraise_from\u001B[1;34m(value, from_value)\u001B[0m\n",
      "File \u001B[1;32m~\\PycharmProjects\\twitter_polls\\venv\\lib\\site-packages\\urllib3\\connectionpool.py:444\u001B[0m, in \u001B[0;36mHTTPConnectionPool._make_request\u001B[1;34m(self, conn, method, url, timeout, chunked, **httplib_request_kw)\u001B[0m\n\u001B[0;32m    441\u001B[0m \u001B[38;5;28;01mexcept\u001B[39;00m \u001B[38;5;167;01mTypeError\u001B[39;00m:\n\u001B[0;32m    442\u001B[0m     \u001B[38;5;66;03m# Python 3\u001B[39;00m\n\u001B[0;32m    443\u001B[0m     \u001B[38;5;28;01mtry\u001B[39;00m:\n\u001B[1;32m--> 444\u001B[0m         httplib_response \u001B[38;5;241m=\u001B[39m \u001B[43mconn\u001B[49m\u001B[38;5;241;43m.\u001B[39;49m\u001B[43mgetresponse\u001B[49m\u001B[43m(\u001B[49m\u001B[43m)\u001B[49m\n\u001B[0;32m    445\u001B[0m     \u001B[38;5;28;01mexcept\u001B[39;00m \u001B[38;5;167;01mBaseException\u001B[39;00m \u001B[38;5;28;01mas\u001B[39;00m e:\n\u001B[0;32m    446\u001B[0m         \u001B[38;5;66;03m# Remove the TypeError from the exception chain in\u001B[39;00m\n\u001B[0;32m    447\u001B[0m         \u001B[38;5;66;03m# Python 3 (including for exceptions like SystemExit).\u001B[39;00m\n\u001B[0;32m    448\u001B[0m         \u001B[38;5;66;03m# Otherwise it looks like a bug in the code.\u001B[39;00m\n\u001B[0;32m    449\u001B[0m         six\u001B[38;5;241m.\u001B[39mraise_from(e, \u001B[38;5;28;01mNone\u001B[39;00m)\n",
      "File \u001B[1;32m~\\AppData\\Local\\Programs\\Python\\Python310\\lib\\http\\client.py:1374\u001B[0m, in \u001B[0;36mHTTPConnection.getresponse\u001B[1;34m(self)\u001B[0m\n\u001B[0;32m   1372\u001B[0m \u001B[38;5;28;01mtry\u001B[39;00m:\n\u001B[0;32m   1373\u001B[0m     \u001B[38;5;28;01mtry\u001B[39;00m:\n\u001B[1;32m-> 1374\u001B[0m         \u001B[43mresponse\u001B[49m\u001B[38;5;241;43m.\u001B[39;49m\u001B[43mbegin\u001B[49m\u001B[43m(\u001B[49m\u001B[43m)\u001B[49m\n\u001B[0;32m   1375\u001B[0m     \u001B[38;5;28;01mexcept\u001B[39;00m \u001B[38;5;167;01mConnectionError\u001B[39;00m:\n\u001B[0;32m   1376\u001B[0m         \u001B[38;5;28mself\u001B[39m\u001B[38;5;241m.\u001B[39mclose()\n",
      "File \u001B[1;32m~\\AppData\\Local\\Programs\\Python\\Python310\\lib\\http\\client.py:318\u001B[0m, in \u001B[0;36mHTTPResponse.begin\u001B[1;34m(self)\u001B[0m\n\u001B[0;32m    316\u001B[0m \u001B[38;5;66;03m# read until we get a non-100 response\u001B[39;00m\n\u001B[0;32m    317\u001B[0m \u001B[38;5;28;01mwhile\u001B[39;00m \u001B[38;5;28;01mTrue\u001B[39;00m:\n\u001B[1;32m--> 318\u001B[0m     version, status, reason \u001B[38;5;241m=\u001B[39m \u001B[38;5;28;43mself\u001B[39;49m\u001B[38;5;241;43m.\u001B[39;49m\u001B[43m_read_status\u001B[49m\u001B[43m(\u001B[49m\u001B[43m)\u001B[49m\n\u001B[0;32m    319\u001B[0m     \u001B[38;5;28;01mif\u001B[39;00m status \u001B[38;5;241m!=\u001B[39m CONTINUE:\n\u001B[0;32m    320\u001B[0m         \u001B[38;5;28;01mbreak\u001B[39;00m\n",
      "File \u001B[1;32m~\\AppData\\Local\\Programs\\Python\\Python310\\lib\\http\\client.py:279\u001B[0m, in \u001B[0;36mHTTPResponse._read_status\u001B[1;34m(self)\u001B[0m\n\u001B[0;32m    278\u001B[0m \u001B[38;5;28;01mdef\u001B[39;00m \u001B[38;5;21m_read_status\u001B[39m(\u001B[38;5;28mself\u001B[39m):\n\u001B[1;32m--> 279\u001B[0m     line \u001B[38;5;241m=\u001B[39m \u001B[38;5;28mstr\u001B[39m(\u001B[38;5;28;43mself\u001B[39;49m\u001B[38;5;241;43m.\u001B[39;49m\u001B[43mfp\u001B[49m\u001B[38;5;241;43m.\u001B[39;49m\u001B[43mreadline\u001B[49m\u001B[43m(\u001B[49m\u001B[43m_MAXLINE\u001B[49m\u001B[43m \u001B[49m\u001B[38;5;241;43m+\u001B[39;49m\u001B[43m \u001B[49m\u001B[38;5;241;43m1\u001B[39;49m\u001B[43m)\u001B[49m, \u001B[38;5;124m\"\u001B[39m\u001B[38;5;124miso-8859-1\u001B[39m\u001B[38;5;124m\"\u001B[39m)\n\u001B[0;32m    280\u001B[0m     \u001B[38;5;28;01mif\u001B[39;00m \u001B[38;5;28mlen\u001B[39m(line) \u001B[38;5;241m>\u001B[39m _MAXLINE:\n\u001B[0;32m    281\u001B[0m         \u001B[38;5;28;01mraise\u001B[39;00m LineTooLong(\u001B[38;5;124m\"\u001B[39m\u001B[38;5;124mstatus line\u001B[39m\u001B[38;5;124m\"\u001B[39m)\n",
      "File \u001B[1;32m~\\AppData\\Local\\Programs\\Python\\Python310\\lib\\socket.py:705\u001B[0m, in \u001B[0;36mSocketIO.readinto\u001B[1;34m(self, b)\u001B[0m\n\u001B[0;32m    703\u001B[0m \u001B[38;5;28;01mwhile\u001B[39;00m \u001B[38;5;28;01mTrue\u001B[39;00m:\n\u001B[0;32m    704\u001B[0m     \u001B[38;5;28;01mtry\u001B[39;00m:\n\u001B[1;32m--> 705\u001B[0m         \u001B[38;5;28;01mreturn\u001B[39;00m \u001B[38;5;28;43mself\u001B[39;49m\u001B[38;5;241;43m.\u001B[39;49m\u001B[43m_sock\u001B[49m\u001B[38;5;241;43m.\u001B[39;49m\u001B[43mrecv_into\u001B[49m\u001B[43m(\u001B[49m\u001B[43mb\u001B[49m\u001B[43m)\u001B[49m\n\u001B[0;32m    706\u001B[0m     \u001B[38;5;28;01mexcept\u001B[39;00m timeout:\n\u001B[0;32m    707\u001B[0m         \u001B[38;5;28mself\u001B[39m\u001B[38;5;241m.\u001B[39m_timeout_occurred \u001B[38;5;241m=\u001B[39m \u001B[38;5;28;01mTrue\u001B[39;00m\n",
      "File \u001B[1;32m~\\AppData\\Local\\Programs\\Python\\Python310\\lib\\ssl.py:1274\u001B[0m, in \u001B[0;36mSSLSocket.recv_into\u001B[1;34m(self, buffer, nbytes, flags)\u001B[0m\n\u001B[0;32m   1270\u001B[0m     \u001B[38;5;28;01mif\u001B[39;00m flags \u001B[38;5;241m!=\u001B[39m \u001B[38;5;241m0\u001B[39m:\n\u001B[0;32m   1271\u001B[0m         \u001B[38;5;28;01mraise\u001B[39;00m \u001B[38;5;167;01mValueError\u001B[39;00m(\n\u001B[0;32m   1272\u001B[0m           \u001B[38;5;124m\"\u001B[39m\u001B[38;5;124mnon-zero flags not allowed in calls to recv_into() on \u001B[39m\u001B[38;5;132;01m%s\u001B[39;00m\u001B[38;5;124m\"\u001B[39m \u001B[38;5;241m%\u001B[39m\n\u001B[0;32m   1273\u001B[0m           \u001B[38;5;28mself\u001B[39m\u001B[38;5;241m.\u001B[39m\u001B[38;5;18m__class__\u001B[39m)\n\u001B[1;32m-> 1274\u001B[0m     \u001B[38;5;28;01mreturn\u001B[39;00m \u001B[38;5;28;43mself\u001B[39;49m\u001B[38;5;241;43m.\u001B[39;49m\u001B[43mread\u001B[49m\u001B[43m(\u001B[49m\u001B[43mnbytes\u001B[49m\u001B[43m,\u001B[49m\u001B[43m \u001B[49m\u001B[43mbuffer\u001B[49m\u001B[43m)\u001B[49m\n\u001B[0;32m   1275\u001B[0m \u001B[38;5;28;01melse\u001B[39;00m:\n\u001B[0;32m   1276\u001B[0m     \u001B[38;5;28;01mreturn\u001B[39;00m \u001B[38;5;28msuper\u001B[39m()\u001B[38;5;241m.\u001B[39mrecv_into(buffer, nbytes, flags)\n",
      "File \u001B[1;32m~\\AppData\\Local\\Programs\\Python\\Python310\\lib\\ssl.py:1130\u001B[0m, in \u001B[0;36mSSLSocket.read\u001B[1;34m(self, len, buffer)\u001B[0m\n\u001B[0;32m   1128\u001B[0m \u001B[38;5;28;01mtry\u001B[39;00m:\n\u001B[0;32m   1129\u001B[0m     \u001B[38;5;28;01mif\u001B[39;00m buffer \u001B[38;5;129;01mis\u001B[39;00m \u001B[38;5;129;01mnot\u001B[39;00m \u001B[38;5;28;01mNone\u001B[39;00m:\n\u001B[1;32m-> 1130\u001B[0m         \u001B[38;5;28;01mreturn\u001B[39;00m \u001B[38;5;28;43mself\u001B[39;49m\u001B[38;5;241;43m.\u001B[39;49m\u001B[43m_sslobj\u001B[49m\u001B[38;5;241;43m.\u001B[39;49m\u001B[43mread\u001B[49m\u001B[43m(\u001B[49m\u001B[38;5;28;43mlen\u001B[39;49m\u001B[43m,\u001B[49m\u001B[43m \u001B[49m\u001B[43mbuffer\u001B[49m\u001B[43m)\u001B[49m\n\u001B[0;32m   1131\u001B[0m     \u001B[38;5;28;01melse\u001B[39;00m:\n\u001B[0;32m   1132\u001B[0m         \u001B[38;5;28;01mreturn\u001B[39;00m \u001B[38;5;28mself\u001B[39m\u001B[38;5;241m.\u001B[39m_sslobj\u001B[38;5;241m.\u001B[39mread(\u001B[38;5;28mlen\u001B[39m)\n",
      "\u001B[1;31mKeyboardInterrupt\u001B[0m: "
     ]
    }
   ],
   "source": [
    "out_path = os.path.join(DATA_PATH, f'italychurchtoo_nolang_convo.jsonl')\n",
    "errors = list()\n",
    "with open(out_path, 'a+') as f:\n",
    "    for query in tqdm(remaining, 'queries'):\n",
    "        done = False\n",
    "        next_token = None\n",
    "        while not done:\n",
    "            try:\n",
    "                res = client.search_all_tweets(query=query, next_token=next_token, max_results=500, start_time=start_date, end_time=None,\\\n",
    "                                               place_fields = ['id','full_name', 'country', 'geo', 'name', 'place_type'],\n",
    "                                             tweet_fields = ['id', 'created_at', 'geo', 'public_metrics', 'text', 'edit_history_tweet_ids', 'attachments', 'author_id',  'conversation_id', 'entities', 'in_reply_to_user_id', 'lang', 'possibly_sensitive', 'referenced_tweets', 'reply_settings', 'source', 'withheld'], # missing edit controls and  other fields that require user auth, 'context_annotations' requires <100 results\n",
    "                            media_fields=['url', 'alt_text','public_metrics', 'type', 'media_key', 'duration_ms'],  \\\n",
    "                            poll_fields=['id', 'options', 'duration_minutes', 'end_datetime', 'voting_status'],\n",
    "                                               since_id=None, sort_order=None, \\\n",
    "                            until_id=None, user_fields=['created_at', 'description', 'entities', 'id', 'location', 'name', 'pinned_tweet_id',\n",
    "                   'profile_image_url', 'protected', 'public_metrics', 'url', 'username', 'verified', 'withheld'])\n",
    "                for tweet in res.data:\n",
    "                    f.write(json.dumps(tweet.data, sort_keys=True)+'\\n')\n",
    "                next_token = res.meta.get('next_token', None)\n",
    "                if not next_token:\n",
    "                    done=True\n",
    "\n",
    "            except TweepyException as e:\n",
    "                print(e)\n",
    "                errors.append(query)\n",
    "                time.sleep(60)\n",
    "                done=True"
   ],
   "metadata": {
    "collapsed": false
   }
  },
  {
   "cell_type": "code",
   "execution_count": 104,
   "outputs": [
    {
     "data": {
      "text/plain": "4"
     },
     "execution_count": 104,
     "metadata": {},
     "output_type": "execute_result"
    }
   ],
   "source": [
    "len(errors)"
   ],
   "metadata": {
    "collapsed": false
   }
  },
  {
   "cell_type": "code",
   "execution_count": 101,
   "outputs": [
    {
     "data": {
      "text/plain": "'conversation_id:1415504184804261888 OR conversation_id:1030747586595106816 OR conversation_id:663248916092203010 OR conversation_id:635186714378526722 OR conversation_id:1609202384177070080 OR conversation_id:958688034572169218 OR conversation_id:1494051761694326787 OR conversation_id:1593585507564339203 OR conversation_id:488701944698253313 OR conversation_id:1142062643756318720 OR conversation_id:483511118733012992 OR conversation_id:1594143281050537986 OR conversation_id:1614608414440669184 OR conversation_id:983530482875936768 OR conversation_id:1609595624306970626 OR conversation_id:731893570324578304 OR conversation_id:1021773926337273857 OR conversation_id:978334518305320960 OR conversation_id:1144312015957180418 OR conversation_id:468739499061968896 OR conversation_id:1030461370645585920 OR conversation_id:1042014027994554368 OR conversation_id:1425916925863993356 OR conversation_id:849595040091574272 OR conversation_id:586431287776296960 OR conversation_id:1043584146608726016'"
     },
     "execution_count": 101,
     "metadata": {},
     "output_type": "execute_result"
    }
   ],
   "source": [
    "errors[1]"
   ],
   "metadata": {
    "collapsed": false
   }
  },
  {
   "cell_type": "code",
   "execution_count": null,
   "outputs": [],
   "source": [],
   "metadata": {
    "collapsed": false
   }
  }
 ],
 "metadata": {
  "kernelspec": {
   "display_name": "Python 3",
   "language": "python",
   "name": "python3"
  },
  "language_info": {
   "codemirror_mode": {
    "name": "ipython",
    "version": 2
   },
   "file_extension": ".py",
   "mimetype": "text/x-python",
   "name": "python",
   "nbconvert_exporter": "python",
   "pygments_lexer": "ipython2",
   "version": "2.7.6"
  }
 },
 "nbformat": 4,
 "nbformat_minor": 0
}
